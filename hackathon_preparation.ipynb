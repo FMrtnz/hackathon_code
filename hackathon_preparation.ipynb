{
 "cells": [
  {
   "cell_type": "markdown",
   "metadata": {
    "id": "7LeQnxjHacrU"
   },
   "source": [
    "# Import the data"
   ]
  },
  {
   "cell_type": "code",
   "execution_count": 2,
   "metadata": {
    "colab": {
     "base_uri": "https://localhost:8080/",
     "height": 300
    },
    "id": "049achA_acId",
    "outputId": "1161c254-2394-43b1-fe7b-6e4fdfc694c2"
   },
   "outputs": [
    {
     "data": {
      "text/html": [
       "<div>\n",
       "<style scoped>\n",
       "    .dataframe tbody tr th:only-of-type {\n",
       "        vertical-align: middle;\n",
       "    }\n",
       "\n",
       "    .dataframe tbody tr th {\n",
       "        vertical-align: top;\n",
       "    }\n",
       "\n",
       "    .dataframe thead th {\n",
       "        text-align: right;\n",
       "    }\n",
       "</style>\n",
       "<table border=\"1\" class=\"dataframe\">\n",
       "  <thead>\n",
       "    <tr style=\"text-align: right;\">\n",
       "      <th></th>\n",
       "      <th>id</th>\n",
       "      <th>date</th>\n",
       "      <th>price</th>\n",
       "      <th>bedrooms</th>\n",
       "      <th>bathrooms</th>\n",
       "      <th>sqft_living</th>\n",
       "      <th>sqft_lot</th>\n",
       "      <th>floors</th>\n",
       "      <th>waterfront</th>\n",
       "      <th>view</th>\n",
       "      <th>...</th>\n",
       "      <th>grade</th>\n",
       "      <th>sqft_above</th>\n",
       "      <th>sqft_basement</th>\n",
       "      <th>yr_built</th>\n",
       "      <th>yr_renovated</th>\n",
       "      <th>zipcode</th>\n",
       "      <th>lat</th>\n",
       "      <th>long</th>\n",
       "      <th>sqft_living15</th>\n",
       "      <th>sqft_lot15</th>\n",
       "    </tr>\n",
       "  </thead>\n",
       "  <tbody>\n",
       "    <tr>\n",
       "      <th>0</th>\n",
       "      <td>7129300520</td>\n",
       "      <td>20141013T000000</td>\n",
       "      <td>221900.0</td>\n",
       "      <td>3</td>\n",
       "      <td>1.00</td>\n",
       "      <td>1180</td>\n",
       "      <td>5650</td>\n",
       "      <td>1.0</td>\n",
       "      <td>0</td>\n",
       "      <td>0</td>\n",
       "      <td>...</td>\n",
       "      <td>7</td>\n",
       "      <td>1180</td>\n",
       "      <td>0</td>\n",
       "      <td>1955</td>\n",
       "      <td>0</td>\n",
       "      <td>98178</td>\n",
       "      <td>47.5112</td>\n",
       "      <td>-122.257</td>\n",
       "      <td>1340</td>\n",
       "      <td>5650</td>\n",
       "    </tr>\n",
       "    <tr>\n",
       "      <th>1</th>\n",
       "      <td>6414100192</td>\n",
       "      <td>20141209T000000</td>\n",
       "      <td>538000.0</td>\n",
       "      <td>3</td>\n",
       "      <td>2.25</td>\n",
       "      <td>2570</td>\n",
       "      <td>7242</td>\n",
       "      <td>2.0</td>\n",
       "      <td>0</td>\n",
       "      <td>0</td>\n",
       "      <td>...</td>\n",
       "      <td>7</td>\n",
       "      <td>2170</td>\n",
       "      <td>400</td>\n",
       "      <td>1951</td>\n",
       "      <td>1991</td>\n",
       "      <td>98125</td>\n",
       "      <td>47.7210</td>\n",
       "      <td>-122.319</td>\n",
       "      <td>1690</td>\n",
       "      <td>7639</td>\n",
       "    </tr>\n",
       "    <tr>\n",
       "      <th>2</th>\n",
       "      <td>5631500400</td>\n",
       "      <td>20150225T000000</td>\n",
       "      <td>180000.0</td>\n",
       "      <td>2</td>\n",
       "      <td>1.00</td>\n",
       "      <td>770</td>\n",
       "      <td>10000</td>\n",
       "      <td>1.0</td>\n",
       "      <td>0</td>\n",
       "      <td>0</td>\n",
       "      <td>...</td>\n",
       "      <td>6</td>\n",
       "      <td>770</td>\n",
       "      <td>0</td>\n",
       "      <td>1933</td>\n",
       "      <td>0</td>\n",
       "      <td>98028</td>\n",
       "      <td>47.7379</td>\n",
       "      <td>-122.233</td>\n",
       "      <td>2720</td>\n",
       "      <td>8062</td>\n",
       "    </tr>\n",
       "    <tr>\n",
       "      <th>3</th>\n",
       "      <td>2487200875</td>\n",
       "      <td>20141209T000000</td>\n",
       "      <td>604000.0</td>\n",
       "      <td>4</td>\n",
       "      <td>3.00</td>\n",
       "      <td>1960</td>\n",
       "      <td>5000</td>\n",
       "      <td>1.0</td>\n",
       "      <td>0</td>\n",
       "      <td>0</td>\n",
       "      <td>...</td>\n",
       "      <td>7</td>\n",
       "      <td>1050</td>\n",
       "      <td>910</td>\n",
       "      <td>1965</td>\n",
       "      <td>0</td>\n",
       "      <td>98136</td>\n",
       "      <td>47.5208</td>\n",
       "      <td>-122.393</td>\n",
       "      <td>1360</td>\n",
       "      <td>5000</td>\n",
       "    </tr>\n",
       "    <tr>\n",
       "      <th>4</th>\n",
       "      <td>1954400510</td>\n",
       "      <td>20150218T000000</td>\n",
       "      <td>510000.0</td>\n",
       "      <td>3</td>\n",
       "      <td>2.00</td>\n",
       "      <td>1680</td>\n",
       "      <td>8080</td>\n",
       "      <td>1.0</td>\n",
       "      <td>0</td>\n",
       "      <td>0</td>\n",
       "      <td>...</td>\n",
       "      <td>8</td>\n",
       "      <td>1680</td>\n",
       "      <td>0</td>\n",
       "      <td>1987</td>\n",
       "      <td>0</td>\n",
       "      <td>98074</td>\n",
       "      <td>47.6168</td>\n",
       "      <td>-122.045</td>\n",
       "      <td>1800</td>\n",
       "      <td>7503</td>\n",
       "    </tr>\n",
       "  </tbody>\n",
       "</table>\n",
       "<p>5 rows × 21 columns</p>\n",
       "</div>"
      ],
      "text/plain": [
       "           id             date     price  bedrooms  bathrooms  sqft_living  \\\n",
       "0  7129300520  20141013T000000  221900.0         3       1.00         1180   \n",
       "1  6414100192  20141209T000000  538000.0         3       2.25         2570   \n",
       "2  5631500400  20150225T000000  180000.0         2       1.00          770   \n",
       "3  2487200875  20141209T000000  604000.0         4       3.00         1960   \n",
       "4  1954400510  20150218T000000  510000.0         3       2.00         1680   \n",
       "\n",
       "   sqft_lot  floors  waterfront  view  ...  grade  sqft_above  sqft_basement  \\\n",
       "0      5650     1.0           0     0  ...      7        1180              0   \n",
       "1      7242     2.0           0     0  ...      7        2170            400   \n",
       "2     10000     1.0           0     0  ...      6         770              0   \n",
       "3      5000     1.0           0     0  ...      7        1050            910   \n",
       "4      8080     1.0           0     0  ...      8        1680              0   \n",
       "\n",
       "   yr_built  yr_renovated  zipcode      lat     long  sqft_living15  \\\n",
       "0      1955             0    98178  47.5112 -122.257           1340   \n",
       "1      1951          1991    98125  47.7210 -122.319           1690   \n",
       "2      1933             0    98028  47.7379 -122.233           2720   \n",
       "3      1965             0    98136  47.5208 -122.393           1360   \n",
       "4      1987             0    98074  47.6168 -122.045           1800   \n",
       "\n",
       "   sqft_lot15  \n",
       "0        5650  \n",
       "1        7639  \n",
       "2        8062  \n",
       "3        5000  \n",
       "4        7503  \n",
       "\n",
       "[5 rows x 21 columns]"
      ]
     },
     "execution_count": 2,
     "metadata": {},
     "output_type": "execute_result"
    }
   ],
   "source": [
    "import pandas as pd\n",
    "\n",
    "link = \"https://raw.githubusercontent.com/murpi/wilddata/master/quests/kc_house_data.csv\"\n",
    "#dateparser = lambda x: datetime.strptime(x, \"%Y%m%dT%H%M%S\")\n",
    "df = pd.read_csv(link)\n",
    "df.head()"
   ]
  },
  {
   "cell_type": "markdown",
   "metadata": {
    "id": "FaSjnGlOZp5a"
   },
   "source": [
    "# Explore Data Analyse"
   ]
  },
  {
   "cell_type": "code",
   "execution_count": 6,
   "metadata": {
    "id": "DxZ6a7qSZpg9"
   },
   "outputs": [
    {
     "name": "stdout",
     "output_type": "stream",
     "text": [
      "<class 'pandas.core.frame.DataFrame'>\n",
      "Int64Index: 21613 entries, 0 to 21612\n",
      "Data columns (total 21 columns):\n",
      " #   Column         Non-Null Count  Dtype  \n",
      "---  ------         --------------  -----  \n",
      " 0   id             21613 non-null  int64  \n",
      " 1   date           21613 non-null  object \n",
      " 2   price          21609 non-null  float64\n",
      " 3   bedrooms       21613 non-null  int64  \n",
      " 4   bathrooms      21613 non-null  float64\n",
      " 5   sqft_living    21613 non-null  int64  \n",
      " 6   sqft_lot       21613 non-null  int64  \n",
      " 7   floors         21613 non-null  float64\n",
      " 8   waterfront     21613 non-null  int64  \n",
      " 9   view           21613 non-null  int64  \n",
      " 10  condition      21613 non-null  int64  \n",
      " 11  grade          21613 non-null  int64  \n",
      " 12  sqft_above     21613 non-null  int64  \n",
      " 13  sqft_basement  21613 non-null  int64  \n",
      " 14  yr_built       21613 non-null  int64  \n",
      " 15  yr_renovated   21613 non-null  int64  \n",
      " 16  zipcode        21613 non-null  int64  \n",
      " 17  lat            21613 non-null  float64\n",
      " 18  long           21613 non-null  float64\n",
      " 19  sqft_living15  21613 non-null  int64  \n",
      " 20  sqft_lot15     21613 non-null  int64  \n",
      "dtypes: float64(5), int64(15), object(1)\n",
      "memory usage: 3.6+ MB\n"
     ]
    },
    {
     "data": {
      "text/plain": [
       "id          date             price     bedrooms  bathrooms  sqft_living  sqft_lot  floors  waterfront  view  condition  grade  sqft_above  sqft_basement  yr_built  yr_renovated  zipcode  lat      long      sqft_living15  sqft_lot15\n",
       "1000102     20140916T000000  280000.0  6         3.00       2400         9373      2.0     0           0     3          7      2400        0              1991      0             98002    47.3262  -122.214  2060           7316          1\n",
       "6324000090  20150511T000000  210000.0  2         1.00       990          8140      1.0     0           0     1          6      990         0              1910      0             98116    47.5828  -122.382  2150           5000          1\n",
       "6329000380  20140619T000000  319950.0  2         1.00       920          8341      1.0     0           0     3          7      920         0              1939      0             98146    47.5015  -122.380  2330           9792          1\n",
       "6329000190  20140729T000000  750000.0  4         1.75       2520         21834     1.0     1           4     3          8      1420        1100           1960      0             98146    47.4996  -122.378  1700           8100          1\n",
       "6329000185  20150329T000000  540000.0  3         2.50       2600         23361     1.5     1           4     3          8      2150        450            1912      0             98146    47.4997  -122.379  1700           14700         1\n",
       "                                                                                                                                                                                                                                          ..\n",
       "2767603649  20140730T000000  520000.0  3         2.25       1210         1250      3.0     0           0     3          8      1210        0              2014      0             98107    47.6722  -122.384  1780           5000          1\n",
       "2767603615  20140903T000000  481000.0  2         2.25       1290         1137      3.0     0           0     3          8      1290        0              2007      0             98107    47.6718  -122.382  1290           1332          1\n",
       "2767603612  20150113T000000  489000.0  2         2.25       1290         1334      3.0     0           0     3          8      1290        0              2007      0             98107    47.6719  -122.382  1350           1334          1\n",
       "            20140512T000000  500000.0  2         2.25       1290         1334      3.0     0           0     3          8      1290        0              2007      0             98107    47.6719  -122.382  1350           1334          1\n",
       "9900000190  20141030T000000  268950.0  3         1.00       1320         8100      1.0     0           0     3          6      880         440            1943      0             98166    47.4697  -122.351  1000           8100          1\n",
       "Length: 21613, dtype: int64"
      ]
     },
     "execution_count": 6,
     "metadata": {},
     "output_type": "execute_result"
    }
   ],
   "source": [
    "# Info\n",
    "\n",
    "df.info()\n",
    "\n",
    "# Describe\n",
    "df.describe()\n",
    "\n",
    "# Duplicate\n",
    "df.drop_duplicates(inplace=True)\n",
    "\n",
    "# Fill nan (at least 10%)\n",
    " ###to get an overal picture of the values for each column\n",
    "df_size=df.shape[0]\n",
    "print(df_size)\n",
    "column_list=[]\n",
    "total_na_list=[]\n",
    "percentage_na_list=[]\n",
    "\n",
    "for column in df.columns:\n",
    "    column_list.append(column)\n",
    "    \n",
    "    total_na= df[column].isna().sum()\n",
    "    total_na_list.append(total_na)\n",
    "    percentage_na= round((total_na/df_size)*100,2)\n",
    "    percentage_na_list.append(percentage_na) \n",
    "    \n",
    "df_na=pd.DataFrame({\"columns\": column_list, \"Amount of NA's\": total_na_list, \"% of NA's\": percentage_na_list})\n",
    "df_na\n",
    "\n",
    "#check the number of NA's per column \n",
    "\n",
    "\n",
    "# Drop or not duplicate / Nan value\n",
    "\n",
    "# Merge or join (make sure we have enough data)\n",
    "\n",
    "# Correlation (heatmap)\n",
    "# pairplot\n",
    "\n",
    "# Drop useless cols\n",
    "\n",
    "# update columns ex dealing categorical columns ( factorisarion and dummies )\n",
    "# https://pandas.pydata.org/Pandas_Cheat_Sheet.pdf\n",
    "# Pivot table / Group by as example\n",
    "# explode"
   ]
  },
  {
   "cell_type": "code",
   "execution_count": 29,
   "metadata": {},
   "outputs": [
    {
     "name": "stdout",
     "output_type": "stream",
     "text": [
      "21613\n"
     ]
    },
    {
     "data": {
      "text/html": [
       "<div>\n",
       "<style scoped>\n",
       "    .dataframe tbody tr th:only-of-type {\n",
       "        vertical-align: middle;\n",
       "    }\n",
       "\n",
       "    .dataframe tbody tr th {\n",
       "        vertical-align: top;\n",
       "    }\n",
       "\n",
       "    .dataframe thead th {\n",
       "        text-align: right;\n",
       "    }\n",
       "</style>\n",
       "<table border=\"1\" class=\"dataframe\">\n",
       "  <thead>\n",
       "    <tr style=\"text-align: right;\">\n",
       "      <th></th>\n",
       "      <th>columns</th>\n",
       "      <th>Amount of NA's</th>\n",
       "      <th>% amount of NA's</th>\n",
       "    </tr>\n",
       "  </thead>\n",
       "  <tbody>\n",
       "    <tr>\n",
       "      <th>0</th>\n",
       "      <td>id</td>\n",
       "      <td>0</td>\n",
       "      <td>0.00</td>\n",
       "    </tr>\n",
       "    <tr>\n",
       "      <th>1</th>\n",
       "      <td>date</td>\n",
       "      <td>0</td>\n",
       "      <td>0.00</td>\n",
       "    </tr>\n",
       "    <tr>\n",
       "      <th>2</th>\n",
       "      <td>price</td>\n",
       "      <td>4</td>\n",
       "      <td>0.02</td>\n",
       "    </tr>\n",
       "    <tr>\n",
       "      <th>3</th>\n",
       "      <td>bedrooms</td>\n",
       "      <td>0</td>\n",
       "      <td>0.00</td>\n",
       "    </tr>\n",
       "    <tr>\n",
       "      <th>4</th>\n",
       "      <td>bathrooms</td>\n",
       "      <td>0</td>\n",
       "      <td>0.00</td>\n",
       "    </tr>\n",
       "    <tr>\n",
       "      <th>5</th>\n",
       "      <td>sqft_living</td>\n",
       "      <td>0</td>\n",
       "      <td>0.00</td>\n",
       "    </tr>\n",
       "    <tr>\n",
       "      <th>6</th>\n",
       "      <td>sqft_lot</td>\n",
       "      <td>0</td>\n",
       "      <td>0.00</td>\n",
       "    </tr>\n",
       "    <tr>\n",
       "      <th>7</th>\n",
       "      <td>floors</td>\n",
       "      <td>0</td>\n",
       "      <td>0.00</td>\n",
       "    </tr>\n",
       "    <tr>\n",
       "      <th>8</th>\n",
       "      <td>waterfront</td>\n",
       "      <td>0</td>\n",
       "      <td>0.00</td>\n",
       "    </tr>\n",
       "    <tr>\n",
       "      <th>9</th>\n",
       "      <td>view</td>\n",
       "      <td>0</td>\n",
       "      <td>0.00</td>\n",
       "    </tr>\n",
       "    <tr>\n",
       "      <th>10</th>\n",
       "      <td>condition</td>\n",
       "      <td>0</td>\n",
       "      <td>0.00</td>\n",
       "    </tr>\n",
       "    <tr>\n",
       "      <th>11</th>\n",
       "      <td>grade</td>\n",
       "      <td>0</td>\n",
       "      <td>0.00</td>\n",
       "    </tr>\n",
       "    <tr>\n",
       "      <th>12</th>\n",
       "      <td>sqft_above</td>\n",
       "      <td>0</td>\n",
       "      <td>0.00</td>\n",
       "    </tr>\n",
       "    <tr>\n",
       "      <th>13</th>\n",
       "      <td>sqft_basement</td>\n",
       "      <td>0</td>\n",
       "      <td>0.00</td>\n",
       "    </tr>\n",
       "    <tr>\n",
       "      <th>14</th>\n",
       "      <td>yr_built</td>\n",
       "      <td>0</td>\n",
       "      <td>0.00</td>\n",
       "    </tr>\n",
       "    <tr>\n",
       "      <th>15</th>\n",
       "      <td>yr_renovated</td>\n",
       "      <td>0</td>\n",
       "      <td>0.00</td>\n",
       "    </tr>\n",
       "    <tr>\n",
       "      <th>16</th>\n",
       "      <td>zipcode</td>\n",
       "      <td>0</td>\n",
       "      <td>0.00</td>\n",
       "    </tr>\n",
       "    <tr>\n",
       "      <th>17</th>\n",
       "      <td>lat</td>\n",
       "      <td>0</td>\n",
       "      <td>0.00</td>\n",
       "    </tr>\n",
       "    <tr>\n",
       "      <th>18</th>\n",
       "      <td>long</td>\n",
       "      <td>0</td>\n",
       "      <td>0.00</td>\n",
       "    </tr>\n",
       "    <tr>\n",
       "      <th>19</th>\n",
       "      <td>sqft_living15</td>\n",
       "      <td>0</td>\n",
       "      <td>0.00</td>\n",
       "    </tr>\n",
       "    <tr>\n",
       "      <th>20</th>\n",
       "      <td>sqft_lot15</td>\n",
       "      <td>0</td>\n",
       "      <td>0.00</td>\n",
       "    </tr>\n",
       "  </tbody>\n",
       "</table>\n",
       "</div>"
      ],
      "text/plain": [
       "          columns  Amount of NA's  % amount of NA's\n",
       "0              id               0              0.00\n",
       "1            date               0              0.00\n",
       "2           price               4              0.02\n",
       "3        bedrooms               0              0.00\n",
       "4       bathrooms               0              0.00\n",
       "5     sqft_living               0              0.00\n",
       "6        sqft_lot               0              0.00\n",
       "7          floors               0              0.00\n",
       "8      waterfront               0              0.00\n",
       "9            view               0              0.00\n",
       "10      condition               0              0.00\n",
       "11          grade               0              0.00\n",
       "12     sqft_above               0              0.00\n",
       "13  sqft_basement               0              0.00\n",
       "14       yr_built               0              0.00\n",
       "15   yr_renovated               0              0.00\n",
       "16        zipcode               0              0.00\n",
       "17            lat               0              0.00\n",
       "18           long               0              0.00\n",
       "19  sqft_living15               0              0.00\n",
       "20     sqft_lot15               0              0.00"
      ]
     },
     "execution_count": 29,
     "metadata": {},
     "output_type": "execute_result"
    }
   ],
   "source": [
    "df_size=df.shape[0]\n",
    "print(df_size)\n",
    "column_list=[]\n",
    "total_na_list=[]\n",
    "percentage_na_list=[]\n",
    "\n",
    "for column in df.columns:\n",
    "    column_list.append(column)\n",
    "    \n",
    "    total_na= df[column].isna().sum()\n",
    "    total_na_list.append(total_na)\n",
    "    percentage_na= round((total_na/df_size)*100,2)\n",
    "    percentage_na_list.append(percentage_na) \n",
    "    \n",
    "df_na=pd.DataFrame({\"columns\": column_list, \"Amount of NA's\": total_na_list, \"% of NA's\": percentage_na_list})\n",
    "df_na"
   ]
  },
  {
   "cell_type": "code",
   "execution_count": null,
   "metadata": {},
   "outputs": [],
   "source": []
  },
  {
   "cell_type": "code",
   "execution_count": 27,
   "metadata": {},
   "outputs": [
    {
     "name": "stdout",
     "output_type": "stream",
     "text": [
      "['id', 'date', 'price', 'bedrooms', 'bathrooms', 'sqft_living', 'sqft_lot', 'floors', 'waterfront', 'view', 'condition', 'grade', 'sqft_above', 'sqft_basement', 'yr_built', 'yr_renovated', 'zipcode', 'lat', 'long', 'sqft_living15', 'sqft_lot15']\n"
     ]
    }
   ],
   "source": [
    "column_list=[]\n",
    "for column in df.columns:\n",
    "    column_list.append(column)\n",
    "    \n",
    "print(column_list)"
   ]
  },
  {
   "cell_type": "code",
   "execution_count": null,
   "metadata": {},
   "outputs": [],
   "source": []
  },
  {
   "cell_type": "code",
   "execution_count": null,
   "metadata": {},
   "outputs": [],
   "source": []
  },
  {
   "cell_type": "code",
   "execution_count": null,
   "metadata": {},
   "outputs": [],
   "source": []
  },
  {
   "cell_type": "code",
   "execution_count": null,
   "metadata": {},
   "outputs": [],
   "source": []
  },
  {
   "cell_type": "code",
   "execution_count": null,
   "metadata": {},
   "outputs": [],
   "source": []
  },
  {
   "cell_type": "code",
   "execution_count": null,
   "metadata": {},
   "outputs": [],
   "source": []
  },
  {
   "cell_type": "code",
   "execution_count": null,
   "metadata": {},
   "outputs": [],
   "source": []
  },
  {
   "cell_type": "code",
   "execution_count": null,
   "metadata": {},
   "outputs": [],
   "source": []
  },
  {
   "cell_type": "code",
   "execution_count": null,
   "metadata": {},
   "outputs": [],
   "source": []
  },
  {
   "cell_type": "code",
   "execution_count": null,
   "metadata": {},
   "outputs": [],
   "source": []
  },
  {
   "cell_type": "code",
   "execution_count": null,
   "metadata": {},
   "outputs": [],
   "source": []
  },
  {
   "cell_type": "code",
   "execution_count": null,
   "metadata": {},
   "outputs": [],
   "source": []
  },
  {
   "cell_type": "code",
   "execution_count": null,
   "metadata": {},
   "outputs": [],
   "source": []
  },
  {
   "cell_type": "code",
   "execution_count": null,
   "metadata": {},
   "outputs": [],
   "source": []
  },
  {
   "cell_type": "code",
   "execution_count": null,
   "metadata": {},
   "outputs": [],
   "source": []
  },
  {
   "cell_type": "code",
   "execution_count": null,
   "metadata": {},
   "outputs": [],
   "source": []
  },
  {
   "cell_type": "code",
   "execution_count": null,
   "metadata": {},
   "outputs": [],
   "source": []
  },
  {
   "cell_type": "code",
   "execution_count": null,
   "metadata": {},
   "outputs": [],
   "source": []
  },
  {
   "cell_type": "code",
   "execution_count": null,
   "metadata": {},
   "outputs": [],
   "source": []
  },
  {
   "cell_type": "code",
   "execution_count": null,
   "metadata": {},
   "outputs": [],
   "source": []
  },
  {
   "cell_type": "markdown",
   "metadata": {
    "id": "ZiHx0azGZtt9"
   },
   "source": [
    "# Classification"
   ]
  },
  {
   "cell_type": "code",
   "execution_count": null,
   "metadata": {
    "id": "SM0Bn5ZWZzSS"
   },
   "outputs": [],
   "source": [
    "# Joao -> create a system loop to test the algorithms\n",
    "\n",
    "# Logistic regression -> François\n",
    "# Logistic regression + standard deviation ? -> François\n",
    "# SVM -> Joao\n",
    "# Decision tree\n",
    "# KNNeighbours\n",
    "# pipeline -> joana -> for KNN & decision tree \n",
    "# pipeline -> Fabien -> for SVM\n",
    "\n",
    "# Grid search ?\n",
    "# Confusion matrix ?\n",
    "# Cross validation ?"
   ]
  },
  {
   "cell_type": "markdown",
   "metadata": {
    "id": "DkgO-pthgxb1"
   },
   "source": [
    "We can keep grid search but mandatory for decision tree\n",
    "\n",
    "Joao works first on the algorithm then add the other works"
   ]
  },
  {
   "cell_type": "markdown",
   "metadata": {
    "id": "2OF895aRZwIv"
   },
   "source": [
    "# NLP"
   ]
  },
  {
   "cell_type": "code",
   "execution_count": null,
   "metadata": {
    "id": "cNiaig-gZ0L3"
   },
   "outputs": [],
   "source": [
    "import nltk\n",
    "import matplotlib.pyplot as plt\n",
    "import pandas as pd\n",
    "import numpy as np\n",
    "import plotly.express as px\n",
    "from ast import literal_eval\n",
    "from wordcloud import WordCloud\n",
    "from nltk.stem import PorterStemmer\n",
    "from nltk.stem import WordNetLemmatizer\n",
    "from sklearn.feature_extraction.text import CountVectorizer\n",
    "from sklearn.feature_extraction.text import TfidfVectorizer"
   ]
  },
  {
   "cell_type": "code",
   "execution_count": null,
   "metadata": {},
   "outputs": [],
   "source": [
    "# Function to change string array \n",
    "get_tokens_list = lambda x: literal_eval(x) if type(x) == str else x"
   ]
  },
  {
   "cell_type": "code",
   "execution_count": null,
   "metadata": {},
   "outputs": [],
   "source": [
    "col_list = []"
   ]
  },
  {
   "cell_type": "code",
   "execution_count": null,
   "metadata": {},
   "outputs": [],
   "source": [
    "nltk.download('popular')\n",
    "\n",
    "df_nlp = df[[col_list]].copy()\n",
    "\n",
    "df_nlp.fillna(\" \", inplace=True)\n",
    "stop_words = nltk.corpus.stopwords.words(\"english\") + ['\"', \"'\", \"'s\", \"-\", \"_\",\",\",\"--\",\".\", \"of\", \"the\"]"
   ]
  },
  {
   "cell_type": "code",
   "execution_count": null,
   "metadata": {},
   "outputs": [],
   "source": [
    "# Get freq words from critics consensus\n",
    "df_nlp[\"X\"] = df_nlp.apply(lambda sentence: [w.lower() for w in nltk.word_tokenize(sentence)])\n",
    "freq = nltk.FreqDist(df_nlp[\"X\"].sum())\n",
    "# Data Frame word list\n",
    "df_tokens = pd.DataFrame.from_dict(freq, orient='index')\n",
    "df_tokens.columns = ['Frequency']\n",
    "df_tokens.index.name = 'Term'"
   ]
  },
  {
   "cell_type": "code",
   "execution_count": null,
   "metadata": {},
   "outputs": [],
   "source": [
    "# Get freq clean words from critics consensus\n",
    "df_nlp[\"X_clean\"] = df_nlp[\"X\"].apply(lambda tokens: [ w for w in tokens if w.lower() not in stop_words ])\n",
    "freq_clean = nltk.FreqDist(df_nlp[\"X_clean\"].sum())\n",
    "# Data Frame clean word list\n",
    "df_words = pd.DataFrame.from_dict(freq_clean, orient='index')\n",
    "df_words.columns = ['Frequency']\n",
    "df_words.index.name = 'Term'"
   ]
  },
  {
   "cell_type": "code",
   "execution_count": null,
   "metadata": {},
   "outputs": [],
   "source": [
    "porter = PorterStemmer()\n",
    "df_nlp[\"X_stem\"] = df_nlp[\"X_clean\"].apply(lambda words: [porter.stem(word.lower()) for word in words] )\n",
    "# change to dataFrame to see better final results\n",
    "df_stem = pd.DataFrame.from_dict(nltk.FreqDist(movies[~movies[\"X_stem\"].isna()][\"X_stem\"].sum()), orient='index')\n",
    "df_stem.columns = ['Frequency']\n",
    "df_stem.index.name = 'Term'"
   ]
  },
  {
   "cell_type": "code",
   "execution_count": null,
   "metadata": {},
   "outputs": [],
   "source": []
  },
  {
   "cell_type": "markdown",
   "metadata": {
    "id": "c9b58IwMZyFO"
   },
   "source": [
    "# Linear regression\n"
   ]
  },
  {
   "cell_type": "markdown",
   "metadata": {},
   "source": [
    "### Univariate Linear Regression"
   ]
  },
  {
   "cell_type": "code",
   "execution_count": null,
   "metadata": {},
   "outputs": [],
   "source": [
    "# Displaying data points and regregression line\n",
    "\n",
    "import matplotlib.pyplot as plt\n",
    "import seaborn as sns\n",
    "\n",
    "sns.regplot(data=df_weather, x='DATA', y='PREDICTION', line_kws={\"color\": \"red\"})\n",
    "plt.suptitle('Regression: Max temperatures / Sun hours')\n",
    "plt.show()"
   ]
  },
  {
   "cell_type": "code",
   "execution_count": null,
   "metadata": {},
   "outputs": [],
   "source": [
    "from sklearn.linear_model import LinearRegression\n",
    "\n",
    "# First of all, you have to define 2 series :\n",
    "# X-axis : the correlated column\n",
    "X = df_weather[['CORRELATED_COL']] \n",
    "\n",
    "# Y-axis : the column to predict\n",
    "y = df_weather['PREDICTED_COL'] \n",
    "\n",
    "# Training the model\n",
    "model_LR = LinearRegression().fit(X, y)\n",
    "\n",
    "# Coefficient, the \"a\" in equation \"aX + b\"\n",
    "model_LR.coef_\n",
    "\n",
    "# Interception, the \"b\" in equation \"aX + b\"\n",
    "model_LR.intercept_\n",
    "\n",
    "# Prediction of one value\n",
    "model_LR.predict([[10]])\n",
    "\n",
    "# Prediction of multiple values\n",
    "df_predict['PREDICTED_COL'] = model_LR.predict(df_weather[['CORRELATED_COL']])"
   ]
  },
  {
   "cell_type": "markdown",
   "metadata": {},
   "source": [
    "### Multivariate Linear Regression"
   ]
  },
  {
   "cell_type": "code",
   "execution_count": null,
   "metadata": {},
   "outputs": [],
   "source": [
    "import plotly.express as px\n",
    "\n",
    "# 3D plot with 2 correlated columns and predicted column\n",
    "px.scatter_3d(x = 'CORRELATED_COL_1', \n",
    "              y = 'CORRELATED_COL_2', \n",
    "              z= 'PREDICTED_COL', \n",
    "              data_frame=df_weather)"
   ]
  },
  {
   "cell_type": "code",
   "execution_count": null,
   "metadata": {},
   "outputs": [],
   "source": [
    "from sklearn.linear_model import LinearRegression\n",
    "\n",
    "# Fitting and predicting\n",
    "model_LR = LinearRegression().fit(X, y)\n",
    "df_predict['PREDICTED_COL'] = model_LR.predict(df_weather[['CORRELATED_COL_1','CORRELATED_COL_2']])\n",
    "\n",
    "# R2 score\n",
    "score = model_LR.score(X, y)"
   ]
  },
  {
   "cell_type": "markdown",
   "metadata": {},
   "source": [
    "### Global Linear Regression with split samples"
   ]
  },
  {
   "cell_type": "code",
   "execution_count": null,
   "metadata": {
    "id": "toON60D5Z7Ra"
   },
   "outputs": [],
   "source": [
    "from sklearn.model_selection import train_test_split\n",
    "\n",
    "X = df_dataset[['CORRELATED_COL_1','CORRELATED_COL_2']]\n",
    "y = df_dataset['PREDICTED_COL']\n",
    "\n",
    "X_train, X_test, y_train, y_test = train_test_split(X, y, random_state=42, train_size = 0.75)\n",
    "\n",
    "model_LR = LinearRegression().fit(X_train, y_train)\n",
    "\n",
    "# Compring both scores :\n",
    "print(\"\\nScore for the Train dataset :\", model_LR.score(X_train, y_train))\n",
    "print(\"Score for the Test dataset :\", model_LR.score(X_test, y_test))"
   ]
  },
  {
   "cell_type": "markdown",
   "metadata": {
    "id": "TPqIBjmKfvaG"
   },
   "source": [
    "# Unsupervise algorithm"
   ]
  },
  {
   "cell_type": "markdown",
   "metadata": {
    "id": "wrL8_Titf3sJ"
   },
   "source": [
    "## KNearest Neighbours"
   ]
  },
  {
   "cell_type": "code",
   "execution_count": null,
   "metadata": {
    "id": "B-bn85-tkZoB"
   },
   "outputs": [],
   "source": []
  },
  {
   "cell_type": "markdown",
   "metadata": {
    "id": "lvGCXdJfaRXQ"
   },
   "source": [
    "## Clustering"
   ]
  },
  {
   "cell_type": "code",
   "execution_count": null,
   "metadata": {
    "id": "A_XJlhzTaRC8"
   },
   "outputs": [],
   "source": []
  },
  {
   "cell_type": "markdown",
   "metadata": {
    "id": "SxUlzKOPgCz4"
   },
   "source": [
    "## PCA"
   ]
  },
  {
   "cell_type": "code",
   "execution_count": null,
   "metadata": {
    "id": "Sd11-tzugB6I"
   },
   "outputs": [],
   "source": [
    "# Fabien"
   ]
  }
 ],
 "metadata": {
  "colab": {
   "collapsed_sections": [],
   "name": "hackathon_preparation.ipynb",
   "provenance": [],
   "toc_visible": true
  },
  "kernelspec": {
   "display_name": "Python 3 (ipykernel)",
   "language": "python",
   "name": "python3"
  },
  "language_info": {
   "codemirror_mode": {
    "name": "ipython",
    "version": 3
   },
   "file_extension": ".py",
   "mimetype": "text/x-python",
   "name": "python",
   "nbconvert_exporter": "python",
   "pygments_lexer": "ipython3",
   "version": "3.9.7"
  }
 },
 "nbformat": 4,
 "nbformat_minor": 1
}

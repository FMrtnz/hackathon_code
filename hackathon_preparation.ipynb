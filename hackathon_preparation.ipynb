{
 "cells": [
  {
   "cell_type": "markdown",
   "metadata": {
    "id": "7LeQnxjHacrU"
   },
   "source": [
    "# Import the data"
   ]
  },
  {
   "cell_type": "code",
   "execution_count": 20,
   "metadata": {
    "colab": {
     "base_uri": "https://localhost:8080/",
     "height": 300
    },
    "id": "049achA_acId",
    "outputId": "1161c254-2394-43b1-fe7b-6e4fdfc694c2"
   },
   "outputs": [
    {
     "data": {
      "text/html": [
       "<div>\n",
       "<style scoped>\n",
       "    .dataframe tbody tr th:only-of-type {\n",
       "        vertical-align: middle;\n",
       "    }\n",
       "\n",
       "    .dataframe tbody tr th {\n",
       "        vertical-align: top;\n",
       "    }\n",
       "\n",
       "    .dataframe thead th {\n",
       "        text-align: right;\n",
       "    }\n",
       "</style>\n",
       "<table border=\"1\" class=\"dataframe\">\n",
       "  <thead>\n",
       "    <tr style=\"text-align: right;\">\n",
       "      <th></th>\n",
       "      <th>DATAFLOW</th>\n",
       "      <th>LAST UPDATE</th>\n",
       "      <th>freq</th>\n",
       "      <th>waste</th>\n",
       "      <th>wst_oper</th>\n",
       "      <th>unit</th>\n",
       "      <th>geo</th>\n",
       "      <th>TIME_PERIOD</th>\n",
       "      <th>OBS_VALUE</th>\n",
       "      <th>OBS_FLAG</th>\n",
       "    </tr>\n",
       "  </thead>\n",
       "  <tbody>\n",
       "    <tr>\n",
       "      <th>0</th>\n",
       "      <td>ESTAT:ENV_WASPAC(1.0)</td>\n",
       "      <td>25/03/22 11:00:00</td>\n",
       "      <td>A</td>\n",
       "      <td>W1501</td>\n",
       "      <td>GEN</td>\n",
       "      <td>KG_HAB</td>\n",
       "      <td>AT</td>\n",
       "      <td>1997</td>\n",
       "      <td>138.43</td>\n",
       "      <td>NaN</td>\n",
       "    </tr>\n",
       "    <tr>\n",
       "      <th>1</th>\n",
       "      <td>ESTAT:ENV_WASPAC(1.0)</td>\n",
       "      <td>25/03/22 11:00:00</td>\n",
       "      <td>A</td>\n",
       "      <td>W1501</td>\n",
       "      <td>GEN</td>\n",
       "      <td>KG_HAB</td>\n",
       "      <td>AT</td>\n",
       "      <td>1998</td>\n",
       "      <td>139.78</td>\n",
       "      <td>NaN</td>\n",
       "    </tr>\n",
       "    <tr>\n",
       "      <th>2</th>\n",
       "      <td>ESTAT:ENV_WASPAC(1.0)</td>\n",
       "      <td>25/03/22 11:00:00</td>\n",
       "      <td>A</td>\n",
       "      <td>W1501</td>\n",
       "      <td>GEN</td>\n",
       "      <td>KG_HAB</td>\n",
       "      <td>AT</td>\n",
       "      <td>1999</td>\n",
       "      <td>141.39</td>\n",
       "      <td>NaN</td>\n",
       "    </tr>\n",
       "    <tr>\n",
       "      <th>3</th>\n",
       "      <td>ESTAT:ENV_WASPAC(1.0)</td>\n",
       "      <td>25/03/22 11:00:00</td>\n",
       "      <td>A</td>\n",
       "      <td>W1501</td>\n",
       "      <td>GEN</td>\n",
       "      <td>KG_HAB</td>\n",
       "      <td>AT</td>\n",
       "      <td>2000</td>\n",
       "      <td>146.04</td>\n",
       "      <td>NaN</td>\n",
       "    </tr>\n",
       "    <tr>\n",
       "      <th>4</th>\n",
       "      <td>ESTAT:ENV_WASPAC(1.0)</td>\n",
       "      <td>25/03/22 11:00:00</td>\n",
       "      <td>A</td>\n",
       "      <td>W1501</td>\n",
       "      <td>GEN</td>\n",
       "      <td>KG_HAB</td>\n",
       "      <td>AT</td>\n",
       "      <td>2001</td>\n",
       "      <td>136.36</td>\n",
       "      <td>NaN</td>\n",
       "    </tr>\n",
       "    <tr>\n",
       "      <th>...</th>\n",
       "      <td>...</td>\n",
       "      <td>...</td>\n",
       "      <td>...</td>\n",
       "      <td>...</td>\n",
       "      <td>...</td>\n",
       "      <td>...</td>\n",
       "      <td>...</td>\n",
       "      <td>...</td>\n",
       "      <td>...</td>\n",
       "      <td>...</td>\n",
       "    </tr>\n",
       "    <tr>\n",
       "      <th>110723</th>\n",
       "      <td>ESTAT:ENV_WASPAC(1.0)</td>\n",
       "      <td>25/03/22 11:00:00</td>\n",
       "      <td>A</td>\n",
       "      <td>W150199</td>\n",
       "      <td>RPR</td>\n",
       "      <td>T</td>\n",
       "      <td>UKN</td>\n",
       "      <td>2015</td>\n",
       "      <td>NaN</td>\n",
       "      <td>z</td>\n",
       "    </tr>\n",
       "    <tr>\n",
       "      <th>110724</th>\n",
       "      <td>ESTAT:ENV_WASPAC(1.0)</td>\n",
       "      <td>25/03/22 11:00:00</td>\n",
       "      <td>A</td>\n",
       "      <td>W150199</td>\n",
       "      <td>RPR</td>\n",
       "      <td>T</td>\n",
       "      <td>UKN</td>\n",
       "      <td>2016</td>\n",
       "      <td>NaN</td>\n",
       "      <td>z</td>\n",
       "    </tr>\n",
       "    <tr>\n",
       "      <th>110725</th>\n",
       "      <td>ESTAT:ENV_WASPAC(1.0)</td>\n",
       "      <td>25/03/22 11:00:00</td>\n",
       "      <td>A</td>\n",
       "      <td>W150199</td>\n",
       "      <td>RPR</td>\n",
       "      <td>T</td>\n",
       "      <td>UKN</td>\n",
       "      <td>2017</td>\n",
       "      <td>NaN</td>\n",
       "      <td>z</td>\n",
       "    </tr>\n",
       "    <tr>\n",
       "      <th>110726</th>\n",
       "      <td>ESTAT:ENV_WASPAC(1.0)</td>\n",
       "      <td>25/03/22 11:00:00</td>\n",
       "      <td>A</td>\n",
       "      <td>W150199</td>\n",
       "      <td>RPR</td>\n",
       "      <td>T</td>\n",
       "      <td>UKN</td>\n",
       "      <td>2018</td>\n",
       "      <td>NaN</td>\n",
       "      <td>z</td>\n",
       "    </tr>\n",
       "    <tr>\n",
       "      <th>110727</th>\n",
       "      <td>ESTAT:ENV_WASPAC(1.0)</td>\n",
       "      <td>25/03/22 11:00:00</td>\n",
       "      <td>A</td>\n",
       "      <td>W150199</td>\n",
       "      <td>RPR</td>\n",
       "      <td>T</td>\n",
       "      <td>UKN</td>\n",
       "      <td>2019</td>\n",
       "      <td>NaN</td>\n",
       "      <td>z</td>\n",
       "    </tr>\n",
       "  </tbody>\n",
       "</table>\n",
       "<p>110728 rows × 10 columns</p>\n",
       "</div>"
      ],
      "text/plain": [
       "                     DATAFLOW        LAST UPDATE freq    waste wst_oper  \\\n",
       "0       ESTAT:ENV_WASPAC(1.0)  25/03/22 11:00:00    A    W1501      GEN   \n",
       "1       ESTAT:ENV_WASPAC(1.0)  25/03/22 11:00:00    A    W1501      GEN   \n",
       "2       ESTAT:ENV_WASPAC(1.0)  25/03/22 11:00:00    A    W1501      GEN   \n",
       "3       ESTAT:ENV_WASPAC(1.0)  25/03/22 11:00:00    A    W1501      GEN   \n",
       "4       ESTAT:ENV_WASPAC(1.0)  25/03/22 11:00:00    A    W1501      GEN   \n",
       "...                       ...                ...  ...      ...      ...   \n",
       "110723  ESTAT:ENV_WASPAC(1.0)  25/03/22 11:00:00    A  W150199      RPR   \n",
       "110724  ESTAT:ENV_WASPAC(1.0)  25/03/22 11:00:00    A  W150199      RPR   \n",
       "110725  ESTAT:ENV_WASPAC(1.0)  25/03/22 11:00:00    A  W150199      RPR   \n",
       "110726  ESTAT:ENV_WASPAC(1.0)  25/03/22 11:00:00    A  W150199      RPR   \n",
       "110727  ESTAT:ENV_WASPAC(1.0)  25/03/22 11:00:00    A  W150199      RPR   \n",
       "\n",
       "          unit  geo  TIME_PERIOD  OBS_VALUE OBS_FLAG  \n",
       "0       KG_HAB   AT         1997     138.43      NaN  \n",
       "1       KG_HAB   AT         1998     139.78      NaN  \n",
       "2       KG_HAB   AT         1999     141.39      NaN  \n",
       "3       KG_HAB   AT         2000     146.04      NaN  \n",
       "4       KG_HAB   AT         2001     136.36      NaN  \n",
       "...        ...  ...          ...        ...      ...  \n",
       "110723       T  UKN         2015        NaN        z  \n",
       "110724       T  UKN         2016        NaN        z  \n",
       "110725       T  UKN         2017        NaN        z  \n",
       "110726       T  UKN         2018        NaN        z  \n",
       "110727       T  UKN         2019        NaN        z  \n",
       "\n",
       "[110728 rows x 10 columns]"
      ]
     },
     "execution_count": 20,
     "metadata": {},
     "output_type": "execute_result"
    }
   ],
   "source": [
    "import pandas as pd\n",
    "import zipfile\n",
    "\n",
    "# DATABASE Packaging waste by waste management operations\n",
    "link=\"./data/env_waspac_linear.csv\"\n",
    "df=pd.read_csv(link)\n",
    "df.head()\n",
    "df\n"
   ]
  },
  {
   "cell_type": "code",
   "execution_count": 22,
   "metadata": {},
   "outputs": [
    {
     "data": {
      "text/html": [
       "<div>\n",
       "<style scoped>\n",
       "    .dataframe tbody tr th:only-of-type {\n",
       "        vertical-align: middle;\n",
       "    }\n",
       "\n",
       "    .dataframe tbody tr th {\n",
       "        vertical-align: top;\n",
       "    }\n",
       "\n",
       "    .dataframe thead th {\n",
       "        text-align: right;\n",
       "    }\n",
       "</style>\n",
       "<table border=\"1\" class=\"dataframe\">\n",
       "  <thead>\n",
       "    <tr style=\"text-align: right;\">\n",
       "      <th></th>\n",
       "      <th>DATAFLOW</th>\n",
       "      <th>LAST UPDATE</th>\n",
       "      <th>freq</th>\n",
       "      <th>waste</th>\n",
       "      <th>unit</th>\n",
       "      <th>geo</th>\n",
       "      <th>TIME_PERIOD</th>\n",
       "      <th>OBS_VALUE</th>\n",
       "      <th>OBS_FLAG</th>\n",
       "    </tr>\n",
       "  </thead>\n",
       "  <tbody>\n",
       "    <tr>\n",
       "      <th>0</th>\n",
       "      <td>ESTAT:ENV_WASPACR(1.0)</td>\n",
       "      <td>25/03/22 11:00:00</td>\n",
       "      <td>A</td>\n",
       "      <td>W1501</td>\n",
       "      <td>RT</td>\n",
       "      <td>AT</td>\n",
       "      <td>1997</td>\n",
       "      <td>64.5</td>\n",
       "      <td>NaN</td>\n",
       "    </tr>\n",
       "    <tr>\n",
       "      <th>1</th>\n",
       "      <td>ESTAT:ENV_WASPACR(1.0)</td>\n",
       "      <td>25/03/22 11:00:00</td>\n",
       "      <td>A</td>\n",
       "      <td>W1501</td>\n",
       "      <td>RT</td>\n",
       "      <td>AT</td>\n",
       "      <td>1998</td>\n",
       "      <td>64.9</td>\n",
       "      <td>NaN</td>\n",
       "    </tr>\n",
       "    <tr>\n",
       "      <th>2</th>\n",
       "      <td>ESTAT:ENV_WASPACR(1.0)</td>\n",
       "      <td>25/03/22 11:00:00</td>\n",
       "      <td>A</td>\n",
       "      <td>W1501</td>\n",
       "      <td>RT</td>\n",
       "      <td>AT</td>\n",
       "      <td>1999</td>\n",
       "      <td>65.6</td>\n",
       "      <td>NaN</td>\n",
       "    </tr>\n",
       "    <tr>\n",
       "      <th>3</th>\n",
       "      <td>ESTAT:ENV_WASPACR(1.0)</td>\n",
       "      <td>25/03/22 11:00:00</td>\n",
       "      <td>A</td>\n",
       "      <td>W1501</td>\n",
       "      <td>RT</td>\n",
       "      <td>AT</td>\n",
       "      <td>2000</td>\n",
       "      <td>69.4</td>\n",
       "      <td>NaN</td>\n",
       "    </tr>\n",
       "    <tr>\n",
       "      <th>4</th>\n",
       "      <td>ESTAT:ENV_WASPACR(1.0)</td>\n",
       "      <td>25/03/22 11:00:00</td>\n",
       "      <td>A</td>\n",
       "      <td>W1501</td>\n",
       "      <td>RT</td>\n",
       "      <td>AT</td>\n",
       "      <td>2001</td>\n",
       "      <td>64.3</td>\n",
       "      <td>NaN</td>\n",
       "    </tr>\n",
       "    <tr>\n",
       "      <th>...</th>\n",
       "      <td>...</td>\n",
       "      <td>...</td>\n",
       "      <td>...</td>\n",
       "      <td>...</td>\n",
       "      <td>...</td>\n",
       "      <td>...</td>\n",
       "      <td>...</td>\n",
       "      <td>...</td>\n",
       "      <td>...</td>\n",
       "    </tr>\n",
       "    <tr>\n",
       "      <th>4457</th>\n",
       "      <td>ESTAT:ENV_WASPACR(1.0)</td>\n",
       "      <td>25/03/22 11:00:00</td>\n",
       "      <td>A</td>\n",
       "      <td>W150199</td>\n",
       "      <td>RT</td>\n",
       "      <td>UK</td>\n",
       "      <td>2015</td>\n",
       "      <td>0.0</td>\n",
       "      <td>NaN</td>\n",
       "    </tr>\n",
       "    <tr>\n",
       "      <th>4458</th>\n",
       "      <td>ESTAT:ENV_WASPACR(1.0)</td>\n",
       "      <td>25/03/22 11:00:00</td>\n",
       "      <td>A</td>\n",
       "      <td>W150199</td>\n",
       "      <td>RT</td>\n",
       "      <td>UK</td>\n",
       "      <td>2016</td>\n",
       "      <td>0.0</td>\n",
       "      <td>NaN</td>\n",
       "    </tr>\n",
       "    <tr>\n",
       "      <th>4459</th>\n",
       "      <td>ESTAT:ENV_WASPACR(1.0)</td>\n",
       "      <td>25/03/22 11:00:00</td>\n",
       "      <td>A</td>\n",
       "      <td>W150199</td>\n",
       "      <td>RT</td>\n",
       "      <td>UK</td>\n",
       "      <td>2017</td>\n",
       "      <td>0.0</td>\n",
       "      <td>NaN</td>\n",
       "    </tr>\n",
       "    <tr>\n",
       "      <th>4460</th>\n",
       "      <td>ESTAT:ENV_WASPACR(1.0)</td>\n",
       "      <td>25/03/22 11:00:00</td>\n",
       "      <td>A</td>\n",
       "      <td>W150199</td>\n",
       "      <td>RT</td>\n",
       "      <td>UK</td>\n",
       "      <td>2018</td>\n",
       "      <td>0.0</td>\n",
       "      <td>NaN</td>\n",
       "    </tr>\n",
       "    <tr>\n",
       "      <th>4461</th>\n",
       "      <td>ESTAT:ENV_WASPACR(1.0)</td>\n",
       "      <td>25/03/22 11:00:00</td>\n",
       "      <td>A</td>\n",
       "      <td>W150199</td>\n",
       "      <td>RT</td>\n",
       "      <td>UKN</td>\n",
       "      <td>2019</td>\n",
       "      <td>0.0</td>\n",
       "      <td>NaN</td>\n",
       "    </tr>\n",
       "  </tbody>\n",
       "</table>\n",
       "<p>4462 rows × 9 columns</p>\n",
       "</div>"
      ],
      "text/plain": [
       "                    DATAFLOW        LAST UPDATE freq    waste unit  geo  \\\n",
       "0     ESTAT:ENV_WASPACR(1.0)  25/03/22 11:00:00    A    W1501   RT   AT   \n",
       "1     ESTAT:ENV_WASPACR(1.0)  25/03/22 11:00:00    A    W1501   RT   AT   \n",
       "2     ESTAT:ENV_WASPACR(1.0)  25/03/22 11:00:00    A    W1501   RT   AT   \n",
       "3     ESTAT:ENV_WASPACR(1.0)  25/03/22 11:00:00    A    W1501   RT   AT   \n",
       "4     ESTAT:ENV_WASPACR(1.0)  25/03/22 11:00:00    A    W1501   RT   AT   \n",
       "...                      ...                ...  ...      ...  ...  ...   \n",
       "4457  ESTAT:ENV_WASPACR(1.0)  25/03/22 11:00:00    A  W150199   RT   UK   \n",
       "4458  ESTAT:ENV_WASPACR(1.0)  25/03/22 11:00:00    A  W150199   RT   UK   \n",
       "4459  ESTAT:ENV_WASPACR(1.0)  25/03/22 11:00:00    A  W150199   RT   UK   \n",
       "4460  ESTAT:ENV_WASPACR(1.0)  25/03/22 11:00:00    A  W150199   RT   UK   \n",
       "4461  ESTAT:ENV_WASPACR(1.0)  25/03/22 11:00:00    A  W150199   RT  UKN   \n",
       "\n",
       "      TIME_PERIOD  OBS_VALUE OBS_FLAG  \n",
       "0            1997       64.5      NaN  \n",
       "1            1998       64.9      NaN  \n",
       "2            1999       65.6      NaN  \n",
       "3            2000       69.4      NaN  \n",
       "4            2001       64.3      NaN  \n",
       "...           ...        ...      ...  \n",
       "4457         2015        0.0      NaN  \n",
       "4458         2016        0.0      NaN  \n",
       "4459         2017        0.0      NaN  \n",
       "4460         2018        0.0      NaN  \n",
       "4461         2019        0.0      NaN  \n",
       "\n",
       "[4462 rows x 9 columns]"
      ]
     },
     "execution_count": 22,
     "metadata": {},
     "output_type": "execute_result"
    }
   ],
   "source": [
    "# DATABASE Recycling rates of packaging waste for monitoring compliance with policy targets, by type of packaging\n",
    "link = \"./data/env_waspacr_linear.csv\"\n",
    "#dateparser = lambda x: datetime.strptime(x, \"%Y%m%dT%H%M%S\")\n",
    "df_waspacr = pd.read_csv(link)\n",
    "df_waspacr\n"
   ]
  },
  {
   "cell_type": "code",
   "execution_count": null,
   "metadata": {},
   "outputs": [],
   "source": []
  },
  {
   "cell_type": "code",
   "execution_count": null,
   "metadata": {},
   "outputs": [],
   "source": []
  },
  {
   "cell_type": "code",
   "execution_count": null,
   "metadata": {},
   "outputs": [],
   "source": []
  },
  {
   "cell_type": "markdown",
   "metadata": {
    "id": "FaSjnGlOZp5a"
   },
   "source": [
    "# Explore Data Analyse"
   ]
  },
  {
   "cell_type": "code",
   "execution_count": 2,
   "metadata": {},
   "outputs": [
    {
     "name": "stdout",
     "output_type": "stream",
     "text": [
      "<class 'pandas.core.frame.DataFrame'>\n",
      "RangeIndex: 21613 entries, 0 to 21612\n",
      "Data columns (total 21 columns):\n",
      " #   Column         Non-Null Count  Dtype  \n",
      "---  ------         --------------  -----  \n",
      " 0   id             21613 non-null  int64  \n",
      " 1   date           21613 non-null  object \n",
      " 2   price          21609 non-null  float64\n",
      " 3   bedrooms       21613 non-null  int64  \n",
      " 4   bathrooms      21613 non-null  float64\n",
      " 5   sqft_living    21613 non-null  int64  \n",
      " 6   sqft_lot       21613 non-null  int64  \n",
      " 7   floors         21613 non-null  float64\n",
      " 8   waterfront     21613 non-null  int64  \n",
      " 9   view           21613 non-null  int64  \n",
      " 10  condition      21613 non-null  int64  \n",
      " 11  grade          21613 non-null  int64  \n",
      " 12  sqft_above     21613 non-null  int64  \n",
      " 13  sqft_basement  21613 non-null  int64  \n",
      " 14  yr_built       21613 non-null  int64  \n",
      " 15  yr_renovated   21613 non-null  int64  \n",
      " 16  zipcode        21613 non-null  int64  \n",
      " 17  lat            21613 non-null  float64\n",
      " 18  long           21613 non-null  float64\n",
      " 19  sqft_living15  21613 non-null  int64  \n",
      " 20  sqft_lot15     21613 non-null  int64  \n",
      "dtypes: float64(5), int64(15), object(1)\n",
      "memory usage: 3.5+ MB\n",
      "21613\n",
      "19\n"
     ]
    },
    {
     "data": {
      "text/html": [
       "<div>\n",
       "<style scoped>\n",
       "    .dataframe tbody tr th:only-of-type {\n",
       "        vertical-align: middle;\n",
       "    }\n",
       "\n",
       "    .dataframe tbody tr th {\n",
       "        vertical-align: top;\n",
       "    }\n",
       "\n",
       "    .dataframe thead th {\n",
       "        text-align: right;\n",
       "    }\n",
       "</style>\n",
       "<table border=\"1\" class=\"dataframe\">\n",
       "  <thead>\n",
       "    <tr style=\"text-align: right;\">\n",
       "      <th></th>\n",
       "      <th>row_number</th>\n",
       "      <th>Amount_NA's</th>\n",
       "      <th>%_NA's</th>\n",
       "    </tr>\n",
       "  </thead>\n",
       "  <tbody>\n",
       "  </tbody>\n",
       "</table>\n",
       "</div>"
      ],
      "text/plain": [
       "Empty DataFrame\n",
       "Columns: [row_number, Amount_NA's, %_NA's]\n",
       "Index: []"
      ]
     },
     "execution_count": 2,
     "metadata": {},
     "output_type": "execute_result"
    }
   ],
   "source": [
    "# Info\n",
    "# Describe\n",
    "# Duplicate\n",
    "\n",
    "# Fill nan (at least 10%)\n",
    "# Drop or not duplicate / Nan value\n",
    "\n",
    "# Info\n",
    "\n",
    "df.info()\n",
    "\n",
    "# Describe\n",
    "df.describe()\n",
    "\n",
    "# Duplicate\n",
    "df.drop_duplicates(inplace=True)\n",
    "\n",
    "# Fill nan (at least 10%)\n",
    "\n",
    "#check na's per column \n",
    "df_size=df.shape[0]\n",
    "print(df_size)\n",
    "column_list=[]\n",
    "total_na_list=[]\n",
    "percentage_na_list=[]\n",
    "\n",
    "for column in df.columns:\n",
    "    column_list.append(column)\n",
    "    \n",
    "    total_na= df[column].isna().sum()\n",
    "    total_na_list.append(total_na)\n",
    "    percentage_na= round((total_na/df_size)*100,2)\n",
    "    percentage_na_list.append(percentage_na) \n",
    "    \n",
    "df_na=pd.DataFrame({\"columns\": column_list, \"Amount of NA's\": total_na_list, \"% of NA's\": percentage_na_list})\n",
    "df_na\n",
    "\n",
    "#check the number of NA's per row \n",
    "\n",
    "df_size=df.shape[0]\n",
    "list_rows=[]\n",
    "list_row_na=[]\n",
    "list_percentage_row_na=[]\n",
    "\n",
    "for i in range(0,df_size):\n",
    "    list_rows.append(i)\n",
    "    row_na= df.loc[[i]].isna().sum().sum()\n",
    "    list_row_na.append(row_na)\n",
    "    percentage_row_na= round((row_na/df_size)*100,3)\n",
    "    list_percentage_row_na.append(percentage_row_na)\n",
    "        \n",
    "df_rows_na=pd.DataFrame({\"row_number\": list_rows, \"Amount_NA's\": list_row_na, \"%_NA's\": list_percentage_row_na})\n",
    "df_rows_na.sort_values(by=\"Amount_NA's\", ascending=False, inplace=True)\n",
    "df_rows_na\n",
    "\n",
    "#dropcolumns:\n",
    "#based on the amount of %NA's per column, decide which columns to drop via:\n",
    "columns_drop=[]\n",
    "df.drop(labels= columns_drop, axis=1, inplace=True, errors='raise')\n",
    "\n",
    "#drop rows:\n",
    "#based on the amount of %NA's per row use the trashold of 10% \n",
    "\n",
    "total_columns=len(df.columns)         #check how many columns the dataframe has\n",
    "trashold=round(0.9*total_columns)     #you want to drop the rows with less than 10% of data, which means it lacks data on 90% of the columns\n",
    "print(trashold)\n",
    "df_rows_to_drop=df_rows_na.loc[df_rows_na[\"Amount_NA's\"] >= trashold,:]\n",
    "df_rows_to_drop #this will tell us which rows we should drop from the original dataset, for that use a loc \n",
    "\n"
   ]
  },
  {
   "cell_type": "code",
   "execution_count": 4,
   "metadata": {},
   "outputs": [
    {
     "name": "stderr",
     "output_type": "stream",
     "text": [
      "/var/folders/ts/l4jvqvn135g1lpkckf7t5cmc0000gn/T/ipykernel_877/453655557.py:40: UserWarning: Matplotlib is currently using module://matplotlib_inline.backend_inline, which is a non-GUI backend, so cannot show the figure.\n",
      "  fig.show()\n"
     ]
    },
    {
     "data": {
      "image/png": "[encoded data removed]",
      "text/plain": [
       "<Figure size 432x288 with 2 Axes>"
      ]
     },
     "metadata": {
      "needs_background": "light"
     },
     "output_type": "display_data"
    }
   ],
   "source": [
    "import seaborn as sns\n",
    "import matplotlib.pyplot as plt\n",
    "\n",
    "# Merge or join (make sure we have enough data)\n",
    "\n",
    "#DataFrame.merge(right, how='inner', on=None, left_on=None, right_on=None, left_index=False, right_index=False, sort=False\n",
    "#, suffixes=('_x', '_y'), copy=True, indicator=False, validate=None)\n",
    "\n",
    "#outer join\n",
    "#EXAMPLE: outer_merged = pd.merge(precip_one_station, climate_temp, how=\"outer\", on=[\"STATION\", \"DATE\"] )\n",
    "    \n",
    "#  FROM  https://realpython.com/pandas-merge-join-and-concat/\n",
    "    \n",
    "# Correlation (heatmap)\n",
    "\n",
    "# df.corr(method='pearson', min_periods=1)\n",
    "\n",
    "#https://pandas.pydata.org/docs/reference/api/pandas.DataFrame.corr.html\n",
    "    \n",
    "#EXAMPLE:  x.corr(y, method='spearman')  \n",
    "#x.corr(y, method='kendall')\n",
    "\n",
    "#FROM https://realpython.com/numpy-scipy-pandas-correlation-python/\n",
    "    \n",
    "#HEATMAP \n",
    "\n",
    "#seaborn.heatmap(data, *, vmin=None, vmax=None, cmap=None, \n",
    "#                center=None, \n",
    "#                robust=False, annot=None, \n",
    "#                fmt='.2g', \n",
    "#                annot_kws=None, linewidths=0, linecolor='white', cbar=True, cbar_kws=None, \n",
    "#                cbar_ax=None, square=False, xticklabels='auto', yticklabels='auto', \n",
    "#                mask=None, ax=None, **kwargs)\n",
    "\n",
    "#FROM https://seaborn.pydata.org/generated/seaborn.heatmap.html\n",
    "\n",
    "fig, ax = plt.subplots()\n",
    "viz_correlation = sns.heatmap(df.corr(),center=0,cmap = sns.color_palette(\"vlag\", as_cmap=True))\n",
    "\n",
    "fig.show()"
   ]
  },
  {
   "cell_type": "code",
   "execution_count": null,
   "metadata": {},
   "outputs": [],
   "source": [
    "# pairplot\n",
    "\n",
    "sns.pairplot(df, kind=\"kde\") \n",
    "    \n",
    "#seaborn.pairplot(data, *, hue=None, hue_order=None, palette=None, vars=None, x_vars=None, \n",
    "#     y_vars=None, kind='scatter', diag_kind='auto'\n",
    "#     , markers=None, height=2.5, aspect=1, corner=False, dropna=False, plot_kws=None, \n",
    "#    diag_kws=None, grid_kws=None, size=None)\n",
    "    \n",
    "#EXAMPLE:The kind parameter determines both the diagonal and off-diagonal plotting style. \n",
    "#    Several options are available, including using kdeplot() to draw KDEs:\n",
    "\n",
    "#sns.pairplot(penguins, kind=\"kde\") \n",
    "\n",
    "#FROM https://seaborn.pydata.org/generated/seaborn.pairplot.html"
   ]
  },
  {
   "cell_type": "code",
   "execution_count": 49,
   "metadata": {
    "id": "DxZ6a7qSZpg9"
   },
   "outputs": [
    {
     "ename": "IndentationError",
     "evalue": "unexpected indent (435076705.py, line 16)",
     "output_type": "error",
     "traceback": [
      "\u001b[0;36m  Input \u001b[0;32mIn [49]\u001b[0;36m\u001b[0m\n\u001b[0;31m    FROM  https://realpython.com/pandas-merge-join-and-concat/\u001b[0m\n\u001b[0m    ^\u001b[0m\n\u001b[0;31mIndentationError\u001b[0m\u001b[0;31m:\u001b[0m unexpected indent\n"
     ]
    }
   ],
   "source": [
    "# Drop useless cols\n",
    "\n",
    "# update columns ex dealing categorical columns ( factorisarion and dummies )\n",
    "\n",
    "# pandas.factorize(values, sort=False, na_sentinel=- 1, size_hint=None)\n",
    "\n",
    "# Encode the object as an enumerated type or categorical variable.\n",
    "\n",
    "#This method is useful for obtaining a numeric representation of an array when all that matters is \n",
    "#identifying distinct values. factorize is available as both a top-level function pandas.factorize(), \n",
    "#and as a method Series.factorize() \n",
    "#and Index.factorize().\n",
    "\n",
    "#FROM https://pandas.pydata.org/docs/reference/api/pandas.\n",
    " \n",
    "#EXAMPLE: labels, uniques = pd.factorize(['q', 'q', 'p', 'r', 'q'])\n",
    "#labels\n",
    "#array([0, 0, 1, 2, 0], dtype=int64)\n",
    "\n",
    "#FROM https://www.w3resource.com/pandas/factorize.php\n",
    "    \n",
    "#DUMMIES\n",
    "# pandas.get_dummies()\n",
    "\n",
    "#pandas.get_dummies(data, prefix=None, prefix_sep='_', dummy_na=False, \n",
    "#columns=None, sparse=False, drop_first=False, dtype=None)\n",
    "\n",
    "\n",
    "#FROM https://pandas.pydata.org/docs/reference/api/pandas.get_dummies.html\n",
    "    \n",
    "# GroupBY\n",
    "# DataFrame.groupby(by=None, axis=0, level=None, as_index=True, sort=True, \n",
    "# group_keys=True, squeeze=NoDefault.no_default, observed=False, dropna=True)\n",
    "\n",
    "#df.groupby(by=[\"b\"]).sum()\n",
    "#df.groupby(by=[\"b\"], dropna=False).sum()\n",
    "\n",
    "# FROM https://pandas.pydata.org/docs/reference/api/pandas.DataFrame.groupby.html\n",
    "    \n",
    "# EXPLODE\n",
    "#DataFrame.explode(column, ignore_index=False)\n",
    "\n",
    "#explode team column\n",
    "# df.explode('team')\n",
    "# FROM https://www.statology.org/pandas-explode/\n",
    "\n",
    "\n",
    "\n",
    "\n",
    "\n",
    "# https://pandas.pydata.org/Pandas_Cheat_Sheet.pdf\n",
    "# Pivot table / Group by as example\n",
    "# explode"
   ]
  },
  {
   "cell_type": "markdown",
   "metadata": {
    "id": "ZiHx0azGZtt9"
   },
   "source": [
    "# Classification"
   ]
  },
  {
   "cell_type": "code",
   "execution_count": 50,
   "metadata": {
    "id": "SM0Bn5ZWZzSS"
   },
   "outputs": [],
   "source": [
    "# Joao -> create a system loop to test the algorithms\n",
    "\n",
    "# Logistic regression -> François\n",
    "# Logistic regression + standard deviation ? -> François\n",
    "# SVM -> Joao\n",
    "# Decision tree\n",
    "# KNNeighbours\n",
    "# pipeline -> joana -> for KNN & decision tree \n",
    "\n",
    "\n",
    "\n",
    "\n",
    "\n",
    "# pipeline -> Fabien -> for SVM\n",
    "\n",
    "# Grid search ?\n",
    "# Confusion matrix ?\n",
    "# Cross validation ?"
   ]
  },
  {
   "cell_type": "code",
   "execution_count": 2,
   "metadata": {},
   "outputs": [],
   "source": [
    "# Classification methods\n",
    "##Logistic regression\n",
    "from sklearn.linear_model import LogisticRegression\n",
    "## K neighbors\n",
    "from sklearn.neighbors import KNeighborsClassifier\n",
    "## Decision tree\n",
    "from sklearn.tree import DecisionTreeClassifier\n",
    "## Support vector machine\n",
    "from sklearn import svm\n",
    "\n",
    "from sklearn.pipeline import Pipeline\n",
    "from sklearn.preprocessing import StandardScaler\n",
    "\n",
    "# train and test\n",
    "from sklearn.model_selection import train_test_split\n",
    "from sklearn.metrics import confusion_matrix, accuracy_score\n",
    "from sklearn.model_selection import cross_val_score, GridSearchCV, RandomizedSearchCV, train_test_split"
   ]
  },
  {
   "cell_type": "markdown",
   "metadata": {},
   "source": [
    "I selected titanic dataset to train and test the model to classify"
   ]
  },
  {
   "cell_type": "code",
   "execution_count": 6,
   "metadata": {},
   "outputs": [],
   "source": [
    "# Data base to test\n",
    "import seaborn as sns\n",
    "titanic = sns.load_dataset('titanic')\n",
    "titanic['survived'] = titanic['survived'].apply(lambda x: 'did not survive' if x == 0 else 'survived')\n",
    "titanic.dropna(inplace=True)\n",
    "# I select only the number to set the features in the following code\n",
    "X = titanic.select_dtypes(\"number\")\n",
    "\n",
    "# then the target\n",
    "y = titanic[\"survived\"]"
   ]
  },
  {
   "cell_type": "markdown",
   "metadata": {},
   "source": [
    "The loop for the test contains :\n",
    "1. KNeighborsClassifier\n",
    "2. DecisionTreeClassifier\n",
    "3. Pipeline + KNeighborsClassifier\n",
    "4. Pipeline + DecisionTreeClassifier\n",
    "5. Pipeline + SVM\n",
    "6. LogisticRegression"
   ]
  },
  {
   "cell_type": "code",
   "execution_count": 83,
   "metadata": {},
   "outputs": [],
   "source": [
    "\n",
    "models = [{'alg': KNeighborsClassifier(), \n",
    "           'param' : {'n_neighbors' : list(range(2,20)), 'weights': ['uniform', 'distance'], 'algorithm': ['auto', 'ball_tree', 'kd_tree', 'brute']}},\n",
    "          {'alg': DecisionTreeClassifier(),\n",
    "           'param': {'max_depth': list(range(1, 20)), 'min_samples_leaf': list(range(1, 20)), 'criterion': [\"gini\", \"entropy\"]}},          \n",
    "          #insert new model \n",
    "          {'alg': Pipeline([('scaler', StandardScaler()), ('knn', KNeighborsClassifier())]),'param': {'knn__n_neighbors' : list(range(2,20))}},\n",
    "          {'alg': Pipeline([('scaler', StandardScaler()), ('dtc', DecisionTreeClassifier())]), 'param': {'dtc__max_depth' : list(range(1,20)), 'dtc__min_samples_leaf': list(range(1,20))}},\n",
    "          {'alg': Pipeline([('scaler', StandardScaler()), ('svm', svm.SVC())]), 'param': {\"svm__kernel\":[\"linear\", \"poly\", \"rbf\", \"sigmoid\"], \"svm__degree\":list(range(1,20)), \"svm__gamma\":[\"scale\", \"auto\"], \"svm__decision_function_shape\":[\"ovo\", \"ovr\"] }},\n",
    "          {\"alg\": LogisticRegression(), \"param\": {\"random_state\": list(range(2,10)), \"max_iter\": list(range(10000, 10010)), \"solver\": [\"newton-cg\", \"lbfgs\", \"liblinear\", \"sag\", \"saga\"]} }\n",
    "         ]   \n",
    "# overall ml project\n",
    "ml = {'metric': 'accuracy', 'models': models}"
   ]
  },
  {
   "cell_type": "markdown",
   "metadata": {},
   "source": [
    "The loop test different models then display the best result (by accuracy)"
   ]
  },
  {
   "cell_type": "code",
   "execution_count": 46,
   "metadata": {},
   "outputs": [
    {
     "data": {
      "text/plain": [
       "{'alg': LogisticRegression(),\n",
       " 'param': {'random_state': [2, 3, 4, 5, 6, 7, 8, 9],\n",
       "  'max_iter': [10000,\n",
       "   10001,\n",
       "   10002,\n",
       "   10003,\n",
       "   10004,\n",
       "   10005,\n",
       "   10006,\n",
       "   10007,\n",
       "   10008,\n",
       "   10009],\n",
       "  'solver': ['newton-cg', 'lbfgs', 'liblinear', 'sag', 'saga']},\n",
       " 'accuracy': 0.703003003003003,\n",
       " 'best_param': {'solver': 'lbfgs', 'random_state': 6, 'max_iter': 10000}}"
      ]
     },
     "execution_count": 46,
     "metadata": {},
     "output_type": "execute_result"
    }
   ],
   "source": [
    "for model in ml['models']:\n",
    "    # model is a dictionary\n",
    "    rando = RandomizedSearchCV(model['alg'], model['param'], scoring = ml['metric'])\n",
    "    rando.fit(X,y)\n",
    "    model['accuracy'] = rando.best_score_\n",
    "    model['best_param'] = rando.best_params_\n",
    "\n",
    "# We can get the best model by accuracy from the loop\n",
    "ml['models'].sort(key=lambda x: x[\"accuracy\"], reverse=True)\n",
    "ml['models'][0]"
   ]
  },
  {
   "cell_type": "markdown",
   "metadata": {},
   "source": []
  },
  {
   "cell_type": "code",
   "execution_count": null,
   "metadata": {},
   "outputs": [],
   "source": [
    "\n"
   ]
  },
  {
   "cell_type": "markdown",
   "metadata": {
    "id": "DkgO-pthgxb1"
   },
   "source": [
    "We can keep grid search but mandatory for decision tree\n",
    "\n",
    "Joao works first on the algorithm then add the other works"
   ]
  },
  {
   "cell_type": "markdown",
   "metadata": {
    "id": "2OF895aRZwIv"
   },
   "source": [
    "# NLP"
   ]
  },
  {
   "cell_type": "code",
   "execution_count": 47,
   "metadata": {
    "id": "cNiaig-gZ0L3"
   },
   "outputs": [],
   "source": [
    "import nltk\n",
    "import matplotlib.pyplot as plt\n",
    "import pandas as pd\n",
    "import numpy as np\n",
    "import plotly.express as px\n",
    "from ast import literal_eval\n",
    "from wordcloud import WordCloud\n",
    "from nltk.stem import PorterStemmer\n",
    "from nltk.stem import WordNetLemmatizer\n",
    "from sklearn.feature_extraction.text import CountVectorizer\n",
    "from sklearn.feature_extraction.text import TfidfVectorizer"
   ]
  },
  {
   "cell_type": "code",
   "execution_count": 48,
   "metadata": {},
   "outputs": [],
   "source": [
    "# library to import text inb html\n",
    "from urllib import request\n",
    "from bs4 import BeautifulSoup\n",
    "\n",
    "# Read the HTML from the URL\n",
    "url = \"https://en.wikipedia.org/wiki/Deep-water_soloing\"\n",
    "html = request.urlopen(url).read()\n",
    "\n",
    "#regex = r\"[>](.*?)[<\\/]\"\n",
    "\n",
    "# Get text (clean html) using BeautifulSoup get_text method\n",
    "sentences = BeautifulSoup(html).get_text()\n",
    "#print(sentence)\n",
    "# Tokenize or get words\n",
    "tokens = nltk.word_tokenize(sentences)\n",
    "#df = pd.DataFrame(tokens, columns=[\"words\"])"
   ]
  },
  {
   "cell_type": "code",
   "execution_count": 49,
   "metadata": {},
   "outputs": [],
   "source": [
    "# Function to change string array \n",
    "get_tokens_list = lambda x: literal_eval(x) if type(x) == str else x"
   ]
  },
  {
   "cell_type": "code",
   "execution_count": 50,
   "metadata": {},
   "outputs": [],
   "source": [
    "# this list allow us to set which columns to upload\n",
    "#col_list = ['words']"
   ]
  },
  {
   "cell_type": "markdown",
   "metadata": {},
   "source": [
    "Stops words settings"
   ]
  },
  {
   "cell_type": "code",
   "execution_count": 51,
   "metadata": {
    "scrolled": true
   },
   "outputs": [
    {
     "name": "stderr",
     "output_type": "stream",
     "text": [
      "[nltk_data] Downloading collection 'popular'\n",
      "[nltk_data]    | \n",
      "[nltk_data]    | Downloading package cmudict to\n",
      "[nltk_data]    |     /Users/fabien/nltk_data...\n",
      "[nltk_data]    |   Package cmudict is already up-to-date!\n",
      "[nltk_data]    | Downloading package gazetteers to\n",
      "[nltk_data]    |     /Users/fabien/nltk_data...\n",
      "[nltk_data]    |   Package gazetteers is already up-to-date!\n",
      "[nltk_data]    | Downloading package genesis to\n",
      "[nltk_data]    |     /Users/fabien/nltk_data...\n",
      "[nltk_data]    |   Package genesis is already up-to-date!\n",
      "[nltk_data]    | Downloading package gutenberg to\n",
      "[nltk_data]    |     /Users/fabien/nltk_data...\n",
      "[nltk_data]    |   Package gutenberg is already up-to-date!\n",
      "[nltk_data]    | Downloading package inaugural to\n",
      "[nltk_data]    |     /Users/fabien/nltk_data...\n",
      "[nltk_data]    |   Package inaugural is already up-to-date!\n",
      "[nltk_data]    | Downloading package movie_reviews to\n",
      "[nltk_data]    |     /Users/fabien/nltk_data...\n",
      "[nltk_data]    |   Package movie_reviews is already up-to-date!\n",
      "[nltk_data]    | Downloading package names to\n",
      "[nltk_data]    |     /Users/fabien/nltk_data...\n",
      "[nltk_data]    |   Package names is already up-to-date!\n",
      "[nltk_data]    | Downloading package shakespeare to\n",
      "[nltk_data]    |     /Users/fabien/nltk_data...\n",
      "[nltk_data]    |   Package shakespeare is already up-to-date!\n",
      "[nltk_data]    | Downloading package stopwords to\n",
      "[nltk_data]    |     /Users/fabien/nltk_data...\n",
      "[nltk_data]    |   Package stopwords is already up-to-date!\n",
      "[nltk_data]    | Downloading package treebank to\n",
      "[nltk_data]    |     /Users/fabien/nltk_data...\n",
      "[nltk_data]    |   Package treebank is already up-to-date!\n",
      "[nltk_data]    | Downloading package twitter_samples to\n",
      "[nltk_data]    |     /Users/fabien/nltk_data...\n",
      "[nltk_data]    |   Package twitter_samples is already up-to-date!\n",
      "[nltk_data]    | Downloading package omw to /Users/fabien/nltk_data...\n",
      "[nltk_data]    |   Package omw is already up-to-date!\n",
      "[nltk_data]    | Downloading package omw-1.4 to\n",
      "[nltk_data]    |     /Users/fabien/nltk_data...\n",
      "[nltk_data]    |   Package omw-1.4 is already up-to-date!\n",
      "[nltk_data]    | Downloading package wordnet to\n",
      "[nltk_data]    |     /Users/fabien/nltk_data...\n",
      "[nltk_data]    |   Package wordnet is already up-to-date!\n",
      "[nltk_data]    | Downloading package wordnet2021 to\n",
      "[nltk_data]    |     /Users/fabien/nltk_data...\n",
      "[nltk_data]    |   Package wordnet2021 is already up-to-date!\n",
      "[nltk_data]    | Downloading package wordnet31 to\n",
      "[nltk_data]    |     /Users/fabien/nltk_data...\n",
      "[nltk_data]    |   Package wordnet31 is already up-to-date!\n",
      "[nltk_data]    | Downloading package wordnet_ic to\n",
      "[nltk_data]    |     /Users/fabien/nltk_data...\n",
      "[nltk_data]    |   Package wordnet_ic is already up-to-date!\n",
      "[nltk_data]    | Downloading package words to\n",
      "[nltk_data]    |     /Users/fabien/nltk_data...\n",
      "[nltk_data]    |   Package words is already up-to-date!\n",
      "[nltk_data]    | Downloading package maxent_ne_chunker to\n",
      "[nltk_data]    |     /Users/fabien/nltk_data...\n",
      "[nltk_data]    |   Package maxent_ne_chunker is already up-to-date!\n",
      "[nltk_data]    | Downloading package punkt to\n",
      "[nltk_data]    |     /Users/fabien/nltk_data...\n",
      "[nltk_data]    |   Package punkt is already up-to-date!\n",
      "[nltk_data]    | Downloading package snowball_data to\n",
      "[nltk_data]    |     /Users/fabien/nltk_data...\n",
      "[nltk_data]    |   Package snowball_data is already up-to-date!\n",
      "[nltk_data]    | Downloading package averaged_perceptron_tagger to\n",
      "[nltk_data]    |     /Users/fabien/nltk_data...\n",
      "[nltk_data]    |   Package averaged_perceptron_tagger is already up-\n",
      "[nltk_data]    |       to-date!\n",
      "[nltk_data]    | \n",
      "[nltk_data]  Done downloading collection popular\n"
     ]
    }
   ],
   "source": [
    "nltk.download('popular')\n",
    "stop_words = nltk.corpus.stopwords.words(\"english\") + ['\"', \"'\", \"'s\", \"-\", \"_\",\",\",\"--\",\".\", \"of\", \"the\"]"
   ]
  },
  {
   "cell_type": "markdown",
   "metadata": {},
   "source": [
    "Set the dataframe to analyse with NLP"
   ]
  },
  {
   "cell_type": "code",
   "execution_count": 52,
   "metadata": {},
   "outputs": [],
   "source": [
    "# df_nlp = df[col_list].copy()\n",
    "# data frame to test\n",
    "df_nlp = pd.DataFrame(tokens, columns=[\"words\"])\n",
    "df_nlp.fillna(\" \", inplace=True)"
   ]
  },
  {
   "cell_type": "markdown",
   "metadata": {},
   "source": [
    "Here the content will be :\n",
    "1. tokenize\n",
    "2. clean from stop words\n",
    "3. stemmize\n",
    "4. lemmentize"
   ]
  },
  {
   "cell_type": "code",
   "execution_count": 53,
   "metadata": {},
   "outputs": [],
   "source": [
    "# Get freq words from critics consensus\n",
    "df_nlp[\"X\"] = df_nlp[\"words\"].apply(lambda sentence: [w.lower() for w in nltk.word_tokenize(sentence)])\n",
    "freq = nltk.FreqDist(df_nlp[\"X\"].sum())\n",
    "# Data Frame word list\n",
    "df_tokens = pd.DataFrame.from_dict(freq, orient='index')\n",
    "df_tokens.columns = ['Frequency']\n",
    "df_tokens.index.name = 'Term'"
   ]
  },
  {
   "cell_type": "code",
   "execution_count": 54,
   "metadata": {},
   "outputs": [],
   "source": [
    "# Get freq clean words from critics consensus\n",
    "df_nlp[\"X_clean\"] = df_nlp[\"X\"].apply(lambda tokens: [ w for w in tokens if w.lower() not in stop_words ])\n",
    "freq_clean = nltk.FreqDist(df_nlp[\"X_clean\"].sum())\n",
    "# Data Frame clean word list\n",
    "df_words = pd.DataFrame.from_dict(freq_clean, orient='index')\n",
    "df_words.columns = ['Frequency']\n",
    "df_words.index.name = 'Term'"
   ]
  },
  {
   "cell_type": "code",
   "execution_count": 55,
   "metadata": {},
   "outputs": [],
   "source": [
    "porter = PorterStemmer()\n",
    "df_nlp[\"X_stem\"] = df_nlp[\"X_clean\"].apply(lambda words: [porter.stem(word.lower()) for word in words] )\n",
    "# change to dataFrame to see better final results\n",
    "df_stem = pd.DataFrame.from_dict(nltk.FreqDist(df_nlp[\"X_stem\"].sum()), orient='index')\n",
    "df_stem.columns = ['Frequency']\n",
    "df_stem.index.name = 'Term'"
   ]
  },
  {
   "cell_type": "code",
   "execution_count": 56,
   "metadata": {},
   "outputs": [],
   "source": [
    "wnl = WordNetLemmatizer()\n",
    "df_nlp[\"X_lem\"] = df_nlp[\"X_clean\"].apply(lambda words: [wnl.lemmatize(word.lower()) for word in words] )\n",
    "df_lem = pd.DataFrame.from_dict(nltk.FreqDist(df_nlp[\"X_lem\"].sum()), orient='index')\n",
    "df_lem.columns = ['Frequency']\n",
    "df_lem.index.name = 'Term'"
   ]
  },
  {
   "cell_type": "markdown",
   "metadata": {},
   "source": [
    "The following function create plots and wordcloud by words frequency by the different"
   ]
  },
  {
   "cell_type": "code",
   "execution_count": 57,
   "metadata": {
    "scrolled": true
   },
   "outputs": [
    {
     "data": {
      "image/png": "[encoded data removed]",
      "text/plain": [
       "<Figure size 936x504 with 2 Axes>"
      ]
     },
     "metadata": {
      "needs_background": "light"
     },
     "output_type": "display_data"
    },
    {
     "data": {
      "image/png": "[encoded data removed]",
      "text/plain": [
       "<Figure size 936x504 with 2 Axes>"
      ]
     },
     "metadata": {
      "needs_background": "light"
     },
     "output_type": "display_data"
    },
    {
     "data": {
      "image/png": "[encoded data removed]",
      "text/plain": [
       "<Figure size 936x504 with 2 Axes>"
      ]
     },
     "metadata": {
      "needs_background": "light"
     },
     "output_type": "display_data"
    },
    {
     "data": {
      "image/png": "[encoded data removed]",
      "text/plain": [
       "<Figure size 936x504 with 2 Axes>"
      ]
     },
     "metadata": {
      "needs_background": "light"
     },
     "output_type": "display_data"
    }
   ],
   "source": [
    "list_freq = [\n",
    "    {\"X\": df_nlp[\"X\"], \"title\": \"tokens\"},\n",
    "    {\"X\": df_nlp[\"X_clean\"], \"title\": \"words\"},\n",
    "    {\"X\": df_nlp[\"X_stem\"], \"title\": \"PorterStemmer\"},\n",
    "    {\"X\": df_nlp[\"X_lem\"], \"title\": \"WordNetLemmatizer\"}    \n",
    "]\n",
    "\n",
    "# Create a matrix with vectorise of any alpha word longer than 2 caracters\n",
    "def get_count(X, name = \"\", max_features=20, stop_words=stop_words):\n",
    "    vectorizer = CountVectorizer(max_features=max_features, stop_words=stop_words )\n",
    "    text_matrix = vectorizer.fit_transform(X.apply(lambda wlist: \" \".join(wlist)))\n",
    "    df_matrix_neg = pd.DataFrame(text_matrix.toarray(), columns = vectorizer.get_feature_names_out())\n",
    "    df_sum_matrix_neg = pd.DataFrame(df_matrix_neg.sum().sort_values(ascending=False), columns = [\"count\"])\n",
    "    \n",
    "    fig = plt.subplots(figsize=(13,7))\n",
    "    ax1 = plt.subplot(2,2,1)\n",
    "    ax2 = plt.subplot(2,2,2)\n",
    "    ax1.set(title=f\"Count words for {name}\")\n",
    "    df_sum_matrix_neg.plot(kind=\"bar\", ax = ax1)\n",
    "    #initial text\n",
    "    wordcloud_neg = WordCloud(width=300, height=300, max_font_size=200, min_font_size=10)\n",
    "    wordcloud_neg.generate_from_frequencies(df_matrix_neg.sum())\n",
    "    ax2.imshow(wordcloud_neg, interpolation=\"bilinear\")\n",
    "    ax2.axis('off')\n",
    "    ax2.set(title=f\"{name}'s wordcloud\")\n",
    "    plt.margins(x=0, y=0)\n",
    "\n",
    "for freq in list_freq:\n",
    "    get_count(freq[\"X\"], name = freq[\"title\"])"
   ]
  },
  {
   "cell_type": "markdown",
   "metadata": {
    "id": "c9b58IwMZyFO"
   },
   "source": [
    "# Linear regression\n"
   ]
  },
  {
   "cell_type": "code",
   "execution_count": 58,
   "metadata": {
    "id": "toON60D5Z7Ra"
   },
   "outputs": [],
   "source": [
    "# François\n",
    "from sklearn.linear_model import LogisticRegression"
   ]
  },
  {
   "cell_type": "markdown",
   "metadata": {
    "id": "TPqIBjmKfvaG"
   },
   "source": [
    "# Unsupervise algorithm"
   ]
  },
  {
   "cell_type": "markdown",
   "metadata": {
    "id": "wrL8_Titf3sJ"
   },
   "source": [
    "## KNearest Neighbours"
   ]
  },
  {
   "cell_type": "code",
   "execution_count": null,
   "metadata": {
    "id": "B-bn85-tkZoB"
   },
   "outputs": [],
   "source": [
    "#took this from https://scikit-learn.org/stable/modules/neighbors.html#unsupervised-nearest-neighbors\n",
    "\n",
    "#Unsupervised Nearest Neighbors\n",
    "from sklearn.neighbors import NearestNeighbors\n",
    "import numpy as np\n",
    "X = np.array([[-1, -1], [-2, -1], [-3, -2], [1, 1], [2, 1], [3, 2]])\n",
    "nbrs = NearestNeighbors(n_neighbors=2, algorithm='ball_tree').fit(X)\n",
    "distances, indices = nbrs.kneighbors(X)\n",
    "nbrs.kneighbors_graph(X).toarray()"
   ]
  },
  {
   "cell_type": "code",
   "execution_count": null,
   "metadata": {},
   "outputs": [],
   "source": [
    "from sklearn.neighbors import KDTree\n",
    "import numpy as np\n",
    "X = np.array([[-1, -1], [-2, -1], [-3, -2], [1, 1], [2, 1], [3, 2]])\n",
    "kdt = KDTree(X, leaf_size=30, metric='euclidean')\n",
    "kdt.query(X, k=2, return_distance=False)"
   ]
  },
  {
   "cell_type": "markdown",
   "metadata": {
    "id": "lvGCXdJfaRXQ"
   },
   "source": [
    "## Clustering"
   ]
  },
  {
   "cell_type": "code",
   "execution_count": 59,
   "metadata": {
    "id": "A_XJlhzTaRC8"
   },
   "outputs": [],
   "source": [
    "from sklearn.cluster import KMeans\n",
    "from sklearn import metrics\n",
    "from scipy.spatial.distance import cdist"
   ]
  },
  {
   "cell_type": "code",
   "execution_count": 62,
   "metadata": {},
   "outputs": [
    {
     "data": {
      "text/html": [
       "<div>\n",
       "<style scoped>\n",
       "    .dataframe tbody tr th:only-of-type {\n",
       "        vertical-align: middle;\n",
       "    }\n",
       "\n",
       "    .dataframe tbody tr th {\n",
       "        vertical-align: top;\n",
       "    }\n",
       "\n",
       "    .dataframe thead th {\n",
       "        text-align: right;\n",
       "    }\n",
       "</style>\n",
       "<table border=\"1\" class=\"dataframe\">\n",
       "  <thead>\n",
       "    <tr style=\"text-align: right;\">\n",
       "      <th></th>\n",
       "      <th>pclass</th>\n",
       "      <th>age</th>\n",
       "      <th>sibsp</th>\n",
       "      <th>parch</th>\n",
       "      <th>fare</th>\n",
       "    </tr>\n",
       "  </thead>\n",
       "  <tbody>\n",
       "    <tr>\n",
       "      <th>1</th>\n",
       "      <td>1</td>\n",
       "      <td>38.0</td>\n",
       "      <td>1</td>\n",
       "      <td>0</td>\n",
       "      <td>71.2833</td>\n",
       "    </tr>\n",
       "    <tr>\n",
       "      <th>3</th>\n",
       "      <td>1</td>\n",
       "      <td>35.0</td>\n",
       "      <td>1</td>\n",
       "      <td>0</td>\n",
       "      <td>53.1000</td>\n",
       "    </tr>\n",
       "    <tr>\n",
       "      <th>6</th>\n",
       "      <td>1</td>\n",
       "      <td>54.0</td>\n",
       "      <td>0</td>\n",
       "      <td>0</td>\n",
       "      <td>51.8625</td>\n",
       "    </tr>\n",
       "    <tr>\n",
       "      <th>10</th>\n",
       "      <td>3</td>\n",
       "      <td>4.0</td>\n",
       "      <td>1</td>\n",
       "      <td>1</td>\n",
       "      <td>16.7000</td>\n",
       "    </tr>\n",
       "    <tr>\n",
       "      <th>11</th>\n",
       "      <td>1</td>\n",
       "      <td>58.0</td>\n",
       "      <td>0</td>\n",
       "      <td>0</td>\n",
       "      <td>26.5500</td>\n",
       "    </tr>\n",
       "    <tr>\n",
       "      <th>...</th>\n",
       "      <td>...</td>\n",
       "      <td>...</td>\n",
       "      <td>...</td>\n",
       "      <td>...</td>\n",
       "      <td>...</td>\n",
       "    </tr>\n",
       "    <tr>\n",
       "      <th>871</th>\n",
       "      <td>1</td>\n",
       "      <td>47.0</td>\n",
       "      <td>1</td>\n",
       "      <td>1</td>\n",
       "      <td>52.5542</td>\n",
       "    </tr>\n",
       "    <tr>\n",
       "      <th>872</th>\n",
       "      <td>1</td>\n",
       "      <td>33.0</td>\n",
       "      <td>0</td>\n",
       "      <td>0</td>\n",
       "      <td>5.0000</td>\n",
       "    </tr>\n",
       "    <tr>\n",
       "      <th>879</th>\n",
       "      <td>1</td>\n",
       "      <td>56.0</td>\n",
       "      <td>0</td>\n",
       "      <td>1</td>\n",
       "      <td>83.1583</td>\n",
       "    </tr>\n",
       "    <tr>\n",
       "      <th>887</th>\n",
       "      <td>1</td>\n",
       "      <td>19.0</td>\n",
       "      <td>0</td>\n",
       "      <td>0</td>\n",
       "      <td>30.0000</td>\n",
       "    </tr>\n",
       "    <tr>\n",
       "      <th>889</th>\n",
       "      <td>1</td>\n",
       "      <td>26.0</td>\n",
       "      <td>0</td>\n",
       "      <td>0</td>\n",
       "      <td>30.0000</td>\n",
       "    </tr>\n",
       "  </tbody>\n",
       "</table>\n",
       "<p>182 rows × 5 columns</p>\n",
       "</div>"
      ],
      "text/plain": [
       "     pclass   age  sibsp  parch     fare\n",
       "1         1  38.0      1      0  71.2833\n",
       "3         1  35.0      1      0  53.1000\n",
       "6         1  54.0      0      0  51.8625\n",
       "10        3   4.0      1      1  16.7000\n",
       "11        1  58.0      0      0  26.5500\n",
       "..      ...   ...    ...    ...      ...\n",
       "871       1  47.0      1      1  52.5542\n",
       "872       1  33.0      0      0   5.0000\n",
       "879       1  56.0      0      1  83.1583\n",
       "887       1  19.0      0      0  30.0000\n",
       "889       1  26.0      0      0  30.0000\n",
       "\n",
       "[182 rows x 5 columns]"
      ]
     },
     "execution_count": 62,
     "metadata": {},
     "output_type": "execute_result"
    }
   ],
   "source": [
    "X = titanic.select_dtypes(\"number\")\n",
    "X"
   ]
  },
  {
   "cell_type": "markdown",
   "metadata": {},
   "source": [
    "I use the elbow method to determine which is the best n cluster parameters"
   ]
  },
  {
   "cell_type": "code",
   "execution_count": 63,
   "metadata": {},
   "outputs": [
    {
     "data": {
      "text/plain": [
       "[<matplotlib.lines.Line2D at 0x7f7f6695c280>]"
      ]
     },
     "execution_count": 63,
     "metadata": {},
     "output_type": "execute_result"
    },
    {
     "data": {
      "image/png": "[encoded data removed]",
      "text/plain": [
       "<Figure size 432x288 with 1 Axes>"
      ]
     },
     "metadata": {
      "needs_background": "light"
     },
     "output_type": "display_data"
    }
   ],
   "source": [
    "K = range(2, 10)\n",
    "inertias = []\n",
    "for k in K:\n",
    "    # Building and fitting the model\n",
    "    kmeanModel = KMeans(n_clusters=k).fit(X)\n",
    "    kmeanModel.fit(X)\n",
    "    inertias.append(kmeanModel.inertia_)\n",
    " \n",
    "plt.plot(K, inertias)"
   ]
  },
  {
   "cell_type": "markdown",
   "metadata": {},
   "source": [
    "Then I compare it with the silhouette method here to see if it is the good param n cluster"
   ]
  },
  {
   "cell_type": "code",
   "execution_count": 64,
   "metadata": {},
   "outputs": [
    {
     "data": {
      "text/plain": [
       "[<matplotlib.lines.Line2D at 0x7f7f669ad1f0>]"
      ]
     },
     "execution_count": 64,
     "metadata": {},
     "output_type": "execute_result"
    },
    {
     "data": {
      "image/png": "[encoded data removed]",
      "text/plain": [
       "<Figure size 432x288 with 1 Axes>"
      ]
     },
     "metadata": {
      "needs_background": "light"
     },
     "output_type": "display_data"
    }
   ],
   "source": [
    "silhouette = []\n",
    "for k in K:\n",
    "    modelKM = KMeans(n_clusters=k)\n",
    "    modelKM.fit(X)\n",
    "    silhouette.append(round(metrics.silhouette_score(X, modelKM.labels_), 4))\n",
    "\n",
    "plt.plot(K, silhouette)"
   ]
  },
  {
   "cell_type": "code",
   "execution_count": 65,
   "metadata": {},
   "outputs": [],
   "source": [
    "modelKM = KMeans(n_clusters=2)\n",
    "modelKM.fit(X)\n",
    "titanic['cluster'] = modelKM.labels_.astype(\"int64\")"
   ]
  },
  {
   "cell_type": "code",
   "execution_count": 69,
   "metadata": {},
   "outputs": [
    {
     "data": {
      "text/plain": [
       "<bound method Figure.show of <Figure size 1008x360 with 2 Axes>>"
      ]
     },
     "execution_count": 69,
     "metadata": {},
     "output_type": "execute_result"
    },
    {
     "data": {
      "image/png": "[encoded data removed]",
      "text/plain": [
       "<Figure size 1008x360 with 2 Axes>"
      ]
     },
     "metadata": {
      "needs_background": "light"
     },
     "output_type": "display_data"
    }
   ],
   "source": [
    "#define subplots\n",
    "fig, ax = plt.subplots(1, 2, figsize=(14,5))\n",
    "\n",
    "colors = [\"blue\",\"red\"]\n",
    "\n",
    "for i, c in enumerate(colors):\n",
    "  titanic[titanic['cluster'] == i].plot(kind=\"scatter\", x=\"age\", y=\"fare\", ax=ax[0], color=c)\n",
    "\n",
    "\n",
    "for alive, c in zip(titanic[\"survived\"].unique(), colors):\n",
    "  titanic[titanic['survived'] == alive].plot(kind=\"scatter\", x=\"age\", y=\"fare\", ax=ax[1], color=c)\n",
    "\n",
    "ax[0].legend([0,1])\n",
    "ax[1].legend(titanic[\"survived\"].unique())\n",
    "ax[0].set_title(\"2 clusters\")\n",
    "ax[1].set_title(\"2 original species\")\n",
    "fig.show"
   ]
  },
  {
   "cell_type": "markdown",
   "metadata": {
    "id": "SxUlzKOPgCz4"
   },
   "source": [
    "## PCA"
   ]
  },
  {
   "cell_type": "code",
   "execution_count": null,
   "metadata": {
    "id": "Sd11-tzugB6I"
   },
   "outputs": [],
   "source": [
    "# Fabien"
   ]
  },
  {
   "cell_type": "code",
   "execution_count": 70,
   "metadata": {},
   "outputs": [],
   "source": [
    "from sklearn.preprocessing import StandardScaler\n",
    "from sklearn.decomposition import PCA\n",
    "from sklearn.metrics import accuracy_score\n",
    "from sklearn.neighbors import KNeighborsClassifier\n",
    "# Import train_test_split function\n",
    "from sklearn.model_selection import train_test_split"
   ]
  },
  {
   "cell_type": "code",
   "execution_count": 71,
   "metadata": {},
   "outputs": [
    {
     "data": {
      "text/plain": [
       "(182, 6)"
      ]
     },
     "execution_count": 71,
     "metadata": {},
     "output_type": "execute_result"
    }
   ],
   "source": [
    "X = titanic.select_dtypes('number')\n",
    "X.shape"
   ]
  },
  {
   "cell_type": "code",
   "execution_count": 73,
   "metadata": {},
   "outputs": [
    {
     "data": {
      "text/plain": [
       "(182,)"
      ]
     },
     "execution_count": 73,
     "metadata": {},
     "output_type": "execute_result"
    }
   ],
   "source": [
    "y = titanic[\"survived\"]\n",
    "y.shape"
   ]
  },
  {
   "cell_type": "code",
   "execution_count": 74,
   "metadata": {},
   "outputs": [
    {
     "data": {
      "text/plain": [
       "(182, 6)"
      ]
     },
     "execution_count": 74,
     "metadata": {},
     "output_type": "execute_result"
    }
   ],
   "source": [
    "scaler = StandardScaler()\n",
    "X_scaled = scaler.fit_transform(X)\n",
    "X_scaled.shape"
   ]
  },
  {
   "cell_type": "code",
   "execution_count": 76,
   "metadata": {},
   "outputs": [
    {
     "data": {
      "text/plain": [
       "array([0.38460522, 0.23570837, 0.14411485, 0.10735326, 0.10003184,\n",
       "       0.02818646])"
      ]
     },
     "execution_count": 76,
     "metadata": {},
     "output_type": "execute_result"
    }
   ],
   "source": [
    "pca = PCA()\n",
    "pca.fit(X_scaled)\n",
    "pca.explained_variance_ratio_"
   ]
  },
  {
   "cell_type": "markdown",
   "metadata": {},
   "source": [
    "Here I determine how many main components dermine at least 70 % of the variance to understand if the model predict well the impact"
   ]
  },
  {
   "cell_type": "code",
   "execution_count": 75,
   "metadata": {},
   "outputs": [
    {
     "name": "stdout",
     "output_type": "stream",
     "text": [
      "3 principal componants explain at 70% of the variance\n"
     ]
    }
   ],
   "source": [
    "pca = PCA(.7)\n",
    "pca.fit(X_scaled)\n",
    "print(len(pca.explained_variance_ratio_), \"principal componants explain at 70% of the variance\")"
   ]
  },
  {
   "cell_type": "markdown",
   "metadata": {},
   "source": [
    "Here I created a data frame with the 2 main components that explain the variance"
   ]
  },
  {
   "cell_type": "code",
   "execution_count": null,
   "metadata": {},
   "outputs": [],
   "source": [
    "pca = PCA(n_components=2)\n",
    "X_pca = pca.fit_transform(X_scaled)\n",
    "df_pca = pd.DataFrame(X_pca, columns = [\"PCA 1\", \"PCA 2\"])\n",
    "df_pca[\"survived\"] = y\n",
    "df_pca[\"survived\"].fillna(\"death\", inplace=True)\n",
    "df_pca.head()"
   ]
  },
  {
   "cell_type": "code",
   "execution_count": 80,
   "metadata": {},
   "outputs": [
    {
     "data": {
      "text/plain": [
       "<matplotlib.legend.Legend at 0x7f7f687f0df0>"
      ]
     },
     "execution_count": 80,
     "metadata": {},
     "output_type": "execute_result"
    },
    {
     "data": {
      "image/png": "[encoded data removed]",
      "text/plain": [
       "<Figure size 576x432 with 1 Axes>"
      ]
     },
     "metadata": {
      "needs_background": "light"
     },
     "output_type": "display_data"
    }
   ],
   "source": [
    "fig, ax = plt.subplots(1,1, figsize=(8,6))\n",
    "colors = [\"red\", \"green\"]\n",
    "for op, c in zip(df_pca[\"survived\"].unique(), colors):\n",
    "  df_pca[df_pca[\"survived\"] == op].plot(kind=\"scatter\", ax = ax, x=\"PCA 1\", y=\"PCA 2\", color=c)\n",
    "\n",
    "ax.legend(df_pca[\"survived\"].unique())"
   ]
  },
  {
   "cell_type": "markdown",
   "metadata": {},
   "source": [
    "I add this code bcs with PCA we can create a better classification system like below"
   ]
  },
  {
   "cell_type": "code",
   "execution_count": 81,
   "metadata": {},
   "outputs": [
    {
     "name": "stdout",
     "output_type": "stream",
     "text": [
      "0.4909090909090909\n"
     ]
    }
   ],
   "source": [
    "model = KNeighborsClassifier(n_neighbors=2)\n",
    "# Train the model using the training sets\n",
    "X_train, X_test, y_train, y_test = train_test_split(X_scaled,y, test_size=.3)\n",
    "model.fit(X_train,y_train)\n",
    "#Predict Output\n",
    "y_pred = model.predict(X_test)\n",
    "print(accuracy_score(y_test,y_pred))"
   ]
  },
  {
   "cell_type": "code",
   "execution_count": 82,
   "metadata": {},
   "outputs": [
    {
     "name": "stdout",
     "output_type": "stream",
     "text": [
      "0.6181818181818182\n"
     ]
    }
   ],
   "source": [
    "model = KNeighborsClassifier(n_neighbors=5)\n",
    "X = df_pca[[\"PCA 1\",\"PCA 2\"]]\n",
    "X_train, X_test, y_train, y_test = train_test_split(X_scaled,y, test_size=.3)\n",
    "# Train the model using the training sets\n",
    "model.fit(X_train,y_train)\n",
    "#Predict Output\n",
    "y_pred = model.predict(X_test)\n",
    "print(accuracy_score(y_test,y_pred))"
   ]
  }
 ],
 "metadata": {
  "colab": {
   "collapsed_sections": [],
   "name": "hackathon_preparation.ipynb",
   "provenance": [],
   "toc_visible": true
  },
  "kernelspec": {
   "display_name": "Python 3 (ipykernel)",
   "language": "python",
   "name": "python3"
  },
  "language_info": {
   "codemirror_mode": {
    "name": "ipython",
    "version": 3
   },
   "file_extension": ".py",
   "mimetype": "text/x-python",
   "name": "python",
   "nbconvert_exporter": "python",
   "pygments_lexer": "ipython3",
   "version": "3.9.7"
  }
 },
 "nbformat": 4,
 "nbformat_minor": 1
}

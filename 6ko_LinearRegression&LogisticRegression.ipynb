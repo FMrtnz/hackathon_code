{
 "cells": [
  {
   "cell_type": "markdown",
   "metadata": {
    "id": "QIXzWfcKmk_C"
   },
   "source": [
    "### Univariate Linear Regression"
   ]
  },
  {
   "cell_type": "code",
   "execution_count": null,
   "metadata": {
    "id": "jMWlpcpBbNDt"
   },
   "outputs": [],
   "source": [
    "# Displaying data points and regregression line\n",
    "\n",
    "import matplotlib.pyplot as plt\n",
    "import seaborn as sns\n",
    "\n",
    "sns.regplot(data=df_weather, x='DATA', y='PREDICTION', line_kws={\"color\": \"red\"})\n",
    "plt.suptitle('Regression: Max temperatures / Sun hours')\n",
    "plt.show()"
   ]
  },
  {
   "cell_type": "code",
   "execution_count": null,
   "metadata": {
    "id": "GxiUVOIGndGZ"
   },
   "outputs": [],
   "source": [
    "from sklearn.linear_model import LinearRegression\n",
    "\n",
    "# First of all, you have to define 2 series :\n",
    "# X-axis : the correlated column\n",
    "X = df_weather[['CORRELATED_COL']] \n",
    "\n",
    "# Y-axis : the column to predict\n",
    "y = df_weather['PREDICTED_COL'] \n",
    "\n",
    "# Training the model\n",
    "model_LR = LinearRegression().fit(X, y)\n",
    "\n",
    "# Coefficient, the \"a\" in equation \"aX + b\"\n",
    "model_LR.coef_\n",
    "\n",
    "# Interception, the \"b\" in equation \"aX + b\"\n",
    "model_LR.intercept_\n",
    "\n",
    "# Prediction of one value\n",
    "model_LR.predict([[10]])\n",
    "\n",
    "# Prediction of multiple values\n",
    "df_predict['PREDICTED_COL'] = model_LR.predict(df_weather[['CORRELATED_COL']])"
   ]
  },
  {
   "cell_type": "markdown",
   "metadata": {
    "id": "O8alhaz1p_YG"
   },
   "source": [
    "### Multivariate Linear Regression"
   ]
  },
  {
   "cell_type": "code",
   "execution_count": null,
   "metadata": {
    "id": "Ujz55GvMqE5V"
   },
   "outputs": [],
   "source": [
    "import plotly.express as px\n",
    "\n",
    "# 3D plot with 2 correlated columns and predicted column\n",
    "px.scatter_3d(x = 'CORRELATED_COL_1', \n",
    "              y = 'CORRELATED_COL_2', \n",
    "              z= 'PREDICTED_COL', \n",
    "              data_frame=df_weather)"
   ]
  },
  {
   "cell_type": "code",
   "execution_count": null,
   "metadata": {
    "id": "N1YghjHWrCLa"
   },
   "outputs": [],
   "source": [
    "from sklearn.linear_model import LinearRegression\n",
    "\n",
    "# Fitting and predicting\n",
    "model_LR = LinearRegression().fit(X, y)\n",
    "df_predict['PREDICTED_COL'] = model_LR.predict(df_weather[['CORRELATED_COL_1','CORRELATED_COL_2']])\n",
    "\n",
    "# R2 score\n",
    "score = model_LR.score(X, y)"
   ]
  },
  {
   "cell_type": "markdown",
   "metadata": {
    "id": "LdhE-A1Is7nE"
   },
   "source": [
    "### Global Linear Regression with split samples"
   ]
  },
  {
   "cell_type": "code",
   "execution_count": null,
   "metadata": {
    "id": "zDWjAezxtCEi"
   },
   "outputs": [],
   "source": [
    "from sklearn.model_selection import train_test_split\n",
    "\n",
    "X = df_dataset[['CORRELATED_COL_1','CORRELATED_COL_2']]\n",
    "y = df_dataset['PREDICTED_COL']\n",
    "\n",
    "X_train, X_test, y_train, y_test = train_test_split(X, y, random_state=42, train_size = 0.75)\n",
    "\n",
    "model_LR = LinearRegression().fit(X_train, y_train)\n",
    "\n",
    "# Compring both scores :\n",
    "print(\"\\nScore for the Train dataset :\", model_LR.score(X_train, y_train))\n",
    "print(\"Score for the Test dataset :\", model_LR.score(X_test, y_test))\n"
   ]
  },
  {
   "cell_type": "markdown",
   "metadata": {
    "id": "e0d-wte0vBsi"
   },
   "source": [
    "### Logistic Regression Grid Search (full search)"
   ]
  },
  {
   "cell_type": "code",
   "execution_count": null,
   "metadata": {
    "id": "qaE2FDRCvGYu"
   },
   "outputs": [],
   "source": [
    "from sklearn.linear_model import LogisticRegression\n",
    "from sklearn.model_selection import GridSearchCV\n",
    "\n",
    "LR = LogisticRegression()\n",
    "LRparam_grid = {\n",
    "    'C': [0.001, 0.01, 0.1, 1, 10, 100, 1000],\n",
    "    'penalty': ['l1', 'l2'],\n",
    "    # 'max_iter': list(range(1000,9000,2000)),\n",
    "    'solver': ['newton-cg', 'lbfgs', 'liblinear', 'sag', 'saga']\n",
    "}\n",
    "LR_search = GridSearchCV(LR, param_grid=LRparam_grid, refit = True, verbose = 3, cv=5)\n",
    "\n",
    "# fitting the model for grid search \n",
    "LR_search.fit(X, y)\n",
    "\n",
    "# summarize\n",
    "print('Mean Accuracy: %.3f' % LR_search.best_score_)\n",
    "print('Config: %s' % LR_search.best_params_)"
   ]
  },
  {
   "cell_type": "markdown",
   "metadata": {
    "id": "IrVNDGfCw6uF"
   },
   "source": [
    "### Logistic Regression Grid Search (reduced parameters)\n",
    "Manual dichotomic search on C if not reaching conversion"
   ]
  },
  {
   "cell_type": "code",
   "execution_count": null,
   "metadata": {
    "id": "RfJS8B83wiFI"
   },
   "outputs": [],
   "source": [
    "#Logistic Regression Grid Search with usual working parameters\n",
    "LRparam_grid = {'C': [0.1, 1, 10], 'max_iter': [10000]}\n",
    "LR_search = GridSearchCV(LogisticRegression(), LRparam_grid )\n",
    "LR_search.fit(X,y)\n",
    "print(\"best parameters:\",LR_search.best_params_)"
   ]
  }
 ],
 "metadata": {
  "colab": {
   "authorship_tag": "ABX9TyMj7Gx7StCNZmD9QYFzi26Q",
   "collapsed_sections": [],
   "name": "DataToolBox.ipynb",
   "provenance": []
  },
  "kernelspec": {
   "display_name": "Python 3",
   "language": "python",
   "name": "python3"
  },
  "language_info": {
   "codemirror_mode": {
    "name": "ipython",
    "version": 3
   },
   "file_extension": ".py",
   "mimetype": "text/x-python",
   "name": "python",
   "nbconvert_exporter": "python",
   "pygments_lexer": "ipython3",
   "version": "3.7.1"
  }
 },
 "nbformat": 4,
 "nbformat_minor": 1
}

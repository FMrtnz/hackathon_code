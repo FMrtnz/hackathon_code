{
 "cells": [
  {
   "cell_type": "markdown",
   "id": "f73aa38e",
   "metadata": {},
   "source": [
    "The parameters \"param\" can be changed according the needs of the question. For example \"weights\" on the knn algorithm was a personal choice, you can delete the parameter \"weight\" or add new weights to the list, or replace \"weights\" with another relevnat parameter. \n",
    "\n",
    "If you add a new classifier/algorithm always need to add a new line of code for the scaler (standardize data): scaler codes are only added after setting your algorithms and the respective parameters.\n",
    "\n",
    "Example: define the knn algorithm and respective parameters in line 2 and 3; define the decision tree algorithm and respective parameters in line 5 and 6. So i will add the sacler functions from line 7 onwards. Node: one algorithm one classifier, so in the end the total number of algorithms needs to be the same to the number of scaler functions. \n",
    "\n"
   ]
  },
  {
   "cell_type": "code",
   "execution_count": null,
   "id": "8f17d29b",
   "metadata": {},
   "outputs": [],
   "source": [
    "\n",
    "models = [{'alg': KNeighborsClassifier(), \n",
    "           'param' : {'n_neighbors' : list(range(2,20)), 'weights': ['uniform', 'distance'], 'algorithm': ['auto', 'ball_tree', 'kd_tree', 'brute']}},\n",
    "\n",
    "          {'alg': DecisionTreeClassifier(),\n",
    "           'param': {'max_depth': list(range(1, 20)), 'min_samples_leaf': list(range(1, 20)), 'criterion': [\"gini\", \"entropy\"]}},\n",
    "          \n",
    "          #insert new model \n",
    "          \n",
    "          {'alg': Pipeline([('scaler', StandardScaler()), ('knn', KNeighborsClassifier())]),'param': {'knn__n_neighbors' : list(range(2,20))}},\n",
    "             \n",
    "          {'alg': Pipeline([('scaler', StandardScaler()), ('dtc', DecisionTreeClassifier())]), 'param': {'dtc__max_depth' : list(range(1,20)), 'dtc__min_samples_leaf': list(range(1,20))}},\n",
    "          \n",
    "          #insert a new standard scaler for the new added model from line 8 \n",
    "          \n",
    "# overall ml project\n",
    "ml = {'metric': 'accuracy',\n",
    "     'models': models}"
   ]
  },
  {
   "cell_type": "code",
   "execution_count": null,
   "id": "6c262578",
   "metadata": {},
   "outputs": [],
   "source": [
    "for model in ml['models']:\n",
    "    \n",
    "    # model is a dictionary\n",
    "    rando = RandomizedSearchCV(model['alg'], model['param'], scoring = ml['metric'])\n",
    "    rando.fit(X,y)\n",
    "    model['accuracy'] = rando.best_score_\n",
    "    model['best_param'] = rando.best_params_\n",
    "\n",
    "ml"
   ]
  },
  {
   "cell_type": "code",
   "execution_count": null,
   "id": "c09e0e49",
   "metadata": {},
   "outputs": [],
   "source": [
    "df_jf= df.loc[df[\"TIME_PERIOD\"]==2019, [\"TIME_PERIOD\",\"geo\",\"wst_oper\", \"OBS_VALUE\", \"unit\"]]\n",
    "df_jf\n",
    "pivot= pd.pivot_table(df_joao, columns=\"wst_oper\", index=\"geo\", values=\"OBS_VALUE\",aggfunc=\"count\" )\n",
    "pivot"
   ]
  }
 ],
 "metadata": {
  "kernelspec": {
   "display_name": "Python 3",
   "language": "python",
   "name": "python3"
  },
  "language_info": {
   "codemirror_mode": {
    "name": "ipython",
    "version": 3
   },
   "file_extension": ".py",
   "mimetype": "text/x-python",
   "name": "python",
   "nbconvert_exporter": "python",
   "pygments_lexer": "ipython3",
   "version": "3.7.1"
  }
 },
 "nbformat": 4,
 "nbformat_minor": 5
}
